{
 "cells": [
  {
   "cell_type": "markdown",
   "id": "3a7b83bd",
   "metadata": {
    "papermill": {
     "duration": 0.011201,
     "end_time": "2024-12-18T18:20:36.304495",
     "exception": false,
     "start_time": "2024-12-18T18:20:36.293294",
     "status": "completed"
    },
    "tags": []
   },
   "source": [
    "![SuperMarket](https://www.hashmicro.com/ph/blog/wp-content/uploads/2024/10/grocery-store-pos-system-HashMicro.webp)\n"
   ]
  },
  {
   "cell_type": "markdown",
   "id": "f6539bb7",
   "metadata": {
    "papermill": {
     "duration": 0.011286,
     "end_time": "2024-12-18T18:20:36.326328",
     "exception": false,
     "start_time": "2024-12-18T18:20:36.315042",
     "status": "completed"
    },
    "tags": []
   },
   "source": [
    "#  Satış Analizi  📈\n",
    "\n"
   ]
  },
  {
   "cell_type": "markdown",
   "id": "63ddfc88",
   "metadata": {
    "papermill": {
     "duration": 0.010148,
     "end_time": "2024-12-18T18:20:36.346899",
     "exception": false,
     "start_time": "2024-12-18T18:20:36.336751",
     "status": "completed"
    },
    "tags": []
   },
   "source": [
    "*Bu veri seti 2021 ve 2024 tarihleri arasında işlem verilerini, müşteri segmentasyonunu ve iade eğilimlerini kapsayan bir süpermarketin operasyonları hakkında ayrıntılı bilgi sağlar. Perakende dinamiklerine bütünsel bir bakış sunan Siparişler, Kişiler ve İadeler halinde yapılandırılmıştır.Bu veri kümesinin satış analizi ve müşteri davranışı trendlerinden geri dönüş oranı tahminleri ve ürün performansı değerlendirmesine kadar birçok farklı analizi destekleyecek verilere sahip olması nedeniyle oldukça faydalıdır.*"
   ]
  },
  {
   "cell_type": "markdown",
   "id": "daf9e985",
   "metadata": {
    "papermill": {
     "duration": 0.010185,
     "end_time": "2024-12-18T18:20:36.367609",
     "exception": false,
     "start_time": "2024-12-18T18:20:36.357424",
     "status": "completed"
    },
    "tags": []
   },
   "source": [
    "> *1. Veriyi Ön İzleme ve Tanıma*"
   ]
  },
  {
   "cell_type": "code",
   "execution_count": 1,
   "id": "b688c98e",
   "metadata": {
    "execution": {
     "iopub.execute_input": "2024-12-18T18:20:36.390251Z",
     "iopub.status.busy": "2024-12-18T18:20:36.389834Z",
     "iopub.status.idle": "2024-12-18T18:20:38.974368Z",
     "shell.execute_reply": "2024-12-18T18:20:38.973229Z"
    },
    "papermill": {
     "duration": 2.598709,
     "end_time": "2024-12-18T18:20:38.976826",
     "exception": false,
     "start_time": "2024-12-18T18:20:36.378117",
     "status": "completed"
    },
    "tags": []
   },
   "outputs": [],
   "source": [
    "# gerekli kütüphaneler\n",
    "import numpy as np  # sayısal işlemler \n",
    "import pandas as pd  # veri manipülasyonu \n",
    "import seaborn as sns  # görselleştirme\n",
    "import matplotlib.pyplot as plt  # görselleştirme\n",
    "\n",
    "# görsel çıktılardaki uyarı mesajları için\n",
    "import warnings \n",
    "warnings.filterwarnings('ignore')"
   ]
  },
  {
   "cell_type": "code",
   "execution_count": 2,
   "id": "d65e574e",
   "metadata": {
    "execution": {
     "iopub.execute_input": "2024-12-18T18:20:39.000439Z",
     "iopub.status.busy": "2024-12-18T18:20:38.999824Z",
     "iopub.status.idle": "2024-12-18T18:20:39.111187Z",
     "shell.execute_reply": "2024-12-18T18:20:39.110082Z"
    },
    "papermill": {
     "duration": 0.125672,
     "end_time": "2024-12-18T18:20:39.113521",
     "exception": false,
     "start_time": "2024-12-18T18:20:38.987849",
     "status": "completed"
    },
    "tags": []
   },
   "outputs": [],
   "source": [
    "# Veri setini yükleme\n",
    "df1 = pd.read_csv(r\"/kaggle/input/super-market-dataset/Sample - Superstore.csv\")"
   ]
  },
  {
   "cell_type": "code",
   "execution_count": 3,
   "id": "633f40a4",
   "metadata": {
    "execution": {
     "iopub.execute_input": "2024-12-18T18:20:39.138273Z",
     "iopub.status.busy": "2024-12-18T18:20:39.137397Z",
     "iopub.status.idle": "2024-12-18T18:20:39.174879Z",
     "shell.execute_reply": "2024-12-18T18:20:39.173679Z"
    },
    "papermill": {
     "duration": 0.054303,
     "end_time": "2024-12-18T18:20:39.178334",
     "exception": false,
     "start_time": "2024-12-18T18:20:39.124031",
     "status": "completed"
    },
    "tags": []
   },
   "outputs": [
    {
     "data": {
      "text/html": [
       "<div>\n",
       "<style scoped>\n",
       "    .dataframe tbody tr th:only-of-type {\n",
       "        vertical-align: middle;\n",
       "    }\n",
       "\n",
       "    .dataframe tbody tr th {\n",
       "        vertical-align: top;\n",
       "    }\n",
       "\n",
       "    .dataframe thead th {\n",
       "        text-align: right;\n",
       "    }\n",
       "</style>\n",
       "<table border=\"1\" class=\"dataframe\">\n",
       "  <thead>\n",
       "    <tr style=\"text-align: right;\">\n",
       "      <th></th>\n",
       "      <th>Row ID</th>\n",
       "      <th>Order ID</th>\n",
       "      <th>Order Date</th>\n",
       "      <th>Ship Date</th>\n",
       "      <th>Ship Mode</th>\n",
       "      <th>Customer ID</th>\n",
       "      <th>Customer Name</th>\n",
       "      <th>Segment</th>\n",
       "      <th>Country/Region</th>\n",
       "      <th>City</th>\n",
       "      <th>...</th>\n",
       "      <th>Postal Code</th>\n",
       "      <th>Region</th>\n",
       "      <th>Product ID</th>\n",
       "      <th>Category</th>\n",
       "      <th>Sub-Category</th>\n",
       "      <th>Product Name</th>\n",
       "      <th>Sales</th>\n",
       "      <th>Quantity</th>\n",
       "      <th>Discount</th>\n",
       "      <th>Profit</th>\n",
       "    </tr>\n",
       "  </thead>\n",
       "  <tbody>\n",
       "    <tr>\n",
       "      <th>0</th>\n",
       "      <td>1</td>\n",
       "      <td>US-2021-103800</td>\n",
       "      <td>03-01-2021</td>\n",
       "      <td>07-01-2021</td>\n",
       "      <td>Standard Class</td>\n",
       "      <td>DP-13000</td>\n",
       "      <td>Darren Powers</td>\n",
       "      <td>Consumer</td>\n",
       "      <td>United States</td>\n",
       "      <td>Houston</td>\n",
       "      <td>...</td>\n",
       "      <td>77095</td>\n",
       "      <td>Central</td>\n",
       "      <td>OFF-PA-10000174</td>\n",
       "      <td>Office Supplies</td>\n",
       "      <td>Paper</td>\n",
       "      <td>Message Book, Wirebound, Four 5 1/2\" X 4\" Form...</td>\n",
       "      <td>16.448</td>\n",
       "      <td>2</td>\n",
       "      <td>0.2</td>\n",
       "      <td>5.5512</td>\n",
       "    </tr>\n",
       "    <tr>\n",
       "      <th>1</th>\n",
       "      <td>2</td>\n",
       "      <td>US-2021-112326</td>\n",
       "      <td>04-01-2021</td>\n",
       "      <td>08-01-2021</td>\n",
       "      <td>Standard Class</td>\n",
       "      <td>PO-19195</td>\n",
       "      <td>Phillina Ober</td>\n",
       "      <td>Home Office</td>\n",
       "      <td>United States</td>\n",
       "      <td>Naperville</td>\n",
       "      <td>...</td>\n",
       "      <td>60540</td>\n",
       "      <td>Central</td>\n",
       "      <td>OFF-BI-10004094</td>\n",
       "      <td>Office Supplies</td>\n",
       "      <td>Binders</td>\n",
       "      <td>GBC Standard Plastic Binding Systems Combs</td>\n",
       "      <td>3.540</td>\n",
       "      <td>2</td>\n",
       "      <td>0.8</td>\n",
       "      <td>-5.4870</td>\n",
       "    </tr>\n",
       "    <tr>\n",
       "      <th>2</th>\n",
       "      <td>3</td>\n",
       "      <td>US-2021-112326</td>\n",
       "      <td>04-01-2021</td>\n",
       "      <td>08-01-2021</td>\n",
       "      <td>Standard Class</td>\n",
       "      <td>PO-19195</td>\n",
       "      <td>Phillina Ober</td>\n",
       "      <td>Home Office</td>\n",
       "      <td>United States</td>\n",
       "      <td>Naperville</td>\n",
       "      <td>...</td>\n",
       "      <td>60540</td>\n",
       "      <td>Central</td>\n",
       "      <td>OFF-LA-10003223</td>\n",
       "      <td>Office Supplies</td>\n",
       "      <td>Labels</td>\n",
       "      <td>Avery 508</td>\n",
       "      <td>11.784</td>\n",
       "      <td>3</td>\n",
       "      <td>0.2</td>\n",
       "      <td>4.2717</td>\n",
       "    </tr>\n",
       "    <tr>\n",
       "      <th>3</th>\n",
       "      <td>4</td>\n",
       "      <td>US-2021-112326</td>\n",
       "      <td>04-01-2021</td>\n",
       "      <td>08-01-2021</td>\n",
       "      <td>Standard Class</td>\n",
       "      <td>PO-19195</td>\n",
       "      <td>Phillina Ober</td>\n",
       "      <td>Home Office</td>\n",
       "      <td>United States</td>\n",
       "      <td>Naperville</td>\n",
       "      <td>...</td>\n",
       "      <td>60540</td>\n",
       "      <td>Central</td>\n",
       "      <td>OFF-ST-10002743</td>\n",
       "      <td>Office Supplies</td>\n",
       "      <td>Storage</td>\n",
       "      <td>SAFCO Boltless Steel Shelving</td>\n",
       "      <td>272.736</td>\n",
       "      <td>3</td>\n",
       "      <td>0.2</td>\n",
       "      <td>-64.7748</td>\n",
       "    </tr>\n",
       "    <tr>\n",
       "      <th>4</th>\n",
       "      <td>5</td>\n",
       "      <td>US-2021-141817</td>\n",
       "      <td>05-01-2021</td>\n",
       "      <td>12-01-2021</td>\n",
       "      <td>Standard Class</td>\n",
       "      <td>MB-18085</td>\n",
       "      <td>Mick Brown</td>\n",
       "      <td>Consumer</td>\n",
       "      <td>United States</td>\n",
       "      <td>Philadelphia</td>\n",
       "      <td>...</td>\n",
       "      <td>19143</td>\n",
       "      <td>East</td>\n",
       "      <td>OFF-AR-10003478</td>\n",
       "      <td>Office Supplies</td>\n",
       "      <td>Art</td>\n",
       "      <td>Avery Hi-Liter EverBold Pen Style Fluorescent ...</td>\n",
       "      <td>19.536</td>\n",
       "      <td>3</td>\n",
       "      <td>0.2</td>\n",
       "      <td>4.8840</td>\n",
       "    </tr>\n",
       "  </tbody>\n",
       "</table>\n",
       "<p>5 rows × 21 columns</p>\n",
       "</div>"
      ],
      "text/plain": [
       "   Row ID        Order ID  Order Date   Ship Date       Ship Mode Customer ID  \\\n",
       "0       1  US-2021-103800  03-01-2021  07-01-2021  Standard Class    DP-13000   \n",
       "1       2  US-2021-112326  04-01-2021  08-01-2021  Standard Class    PO-19195   \n",
       "2       3  US-2021-112326  04-01-2021  08-01-2021  Standard Class    PO-19195   \n",
       "3       4  US-2021-112326  04-01-2021  08-01-2021  Standard Class    PO-19195   \n",
       "4       5  US-2021-141817  05-01-2021  12-01-2021  Standard Class    MB-18085   \n",
       "\n",
       "   Customer Name      Segment Country/Region          City  ... Postal Code  \\\n",
       "0  Darren Powers     Consumer  United States       Houston  ...       77095   \n",
       "1  Phillina Ober  Home Office  United States    Naperville  ...       60540   \n",
       "2  Phillina Ober  Home Office  United States    Naperville  ...       60540   \n",
       "3  Phillina Ober  Home Office  United States    Naperville  ...       60540   \n",
       "4     Mick Brown     Consumer  United States  Philadelphia  ...       19143   \n",
       "\n",
       "    Region       Product ID         Category Sub-Category  \\\n",
       "0  Central  OFF-PA-10000174  Office Supplies        Paper   \n",
       "1  Central  OFF-BI-10004094  Office Supplies      Binders   \n",
       "2  Central  OFF-LA-10003223  Office Supplies       Labels   \n",
       "3  Central  OFF-ST-10002743  Office Supplies      Storage   \n",
       "4     East  OFF-AR-10003478  Office Supplies          Art   \n",
       "\n",
       "                                        Product Name    Sales  Quantity  \\\n",
       "0  Message Book, Wirebound, Four 5 1/2\" X 4\" Form...   16.448         2   \n",
       "1         GBC Standard Plastic Binding Systems Combs    3.540         2   \n",
       "2                                          Avery 508   11.784         3   \n",
       "3                      SAFCO Boltless Steel Shelving  272.736         3   \n",
       "4  Avery Hi-Liter EverBold Pen Style Fluorescent ...   19.536         3   \n",
       "\n",
       "   Discount   Profit  \n",
       "0       0.2   5.5512  \n",
       "1       0.8  -5.4870  \n",
       "2       0.2   4.2717  \n",
       "3       0.2 -64.7748  \n",
       "4       0.2   4.8840  \n",
       "\n",
       "[5 rows x 21 columns]"
      ]
     },
     "execution_count": 3,
     "metadata": {},
     "output_type": "execute_result"
    }
   ],
   "source": [
    "#İlk 5 veri gözlemlenir.\n",
    "\n",
    "df1.head()"
   ]
  },
  {
   "cell_type": "markdown",
   "id": "54b208ce",
   "metadata": {
    "papermill": {
     "duration": 0.010599,
     "end_time": "2024-12-18T18:20:39.200128",
     "exception": false,
     "start_time": "2024-12-18T18:20:39.189529",
     "status": "completed"
    },
    "tags": []
   },
   "source": [
    "## Analizin amacı nedir?"
   ]
  },
  {
   "cell_type": "markdown",
   "id": "09051b0a",
   "metadata": {
    "papermill": {
     "duration": 0.010402,
     "end_time": "2024-12-18T18:20:39.221333",
     "exception": false,
     "start_time": "2024-12-18T18:20:39.210931",
     "status": "completed"
    },
    "tags": []
   },
   "source": [
    "*Veri analizimizde amacımız müşteri segmentlerine göre kampanyalar belirlemektir. Bu kampanyalar doğrultusunda müşteri geri dönüşlerini azaltmak ve satışları arttırmak amaçlanmaktadır.Ayrıca uygulanan indirimlerin kar oranına ve satışa etkisi gözlemlenecektir.* 🎯\n",
    "\n",
    "Veri setinin Kaggle [sayfası](https://www.kaggle.com/datasets/aditirai2607/super-market-dataset) için  tıklayınız.\n"
   ]
  },
  {
   "cell_type": "markdown",
   "id": "04070ad6",
   "metadata": {
    "papermill": {
     "duration": 0.010501,
     "end_time": "2024-12-18T18:20:39.242504",
     "exception": false,
     "start_time": "2024-12-18T18:20:39.232003",
     "status": "completed"
    },
    "tags": []
   },
   "source": [
    "*Orjinal veri setinin yapısını korumak için copy() metotu ile veri setinin yedeğini alıyoruz.*"
   ]
  },
  {
   "cell_type": "code",
   "execution_count": 4,
   "id": "4722da34",
   "metadata": {
    "execution": {
     "iopub.execute_input": "2024-12-18T18:20:39.266107Z",
     "iopub.status.busy": "2024-12-18T18:20:39.265729Z",
     "iopub.status.idle": "2024-12-18T18:20:39.274189Z",
     "shell.execute_reply": "2024-12-18T18:20:39.272938Z"
    },
    "papermill": {
     "duration": 0.023569,
     "end_time": "2024-12-18T18:20:39.276543",
     "exception": false,
     "start_time": "2024-12-18T18:20:39.252974",
     "status": "completed"
    },
    "tags": []
   },
   "outputs": [],
   "source": [
    "df = df1.copy()\n"
   ]
  },
  {
   "cell_type": "markdown",
   "id": "32bbe474",
   "metadata": {
    "papermill": {
     "duration": 0.010431,
     "end_time": "2024-12-18T18:20:39.297825",
     "exception": false,
     "start_time": "2024-12-18T18:20:39.287394",
     "status": "completed"
    },
    "tags": []
   },
   "source": [
    "##  Veri Setine Genel Bakış"
   ]
  },
  {
   "cell_type": "code",
   "execution_count": 5,
   "id": "51a402ad",
   "metadata": {
    "execution": {
     "iopub.execute_input": "2024-12-18T18:20:39.320705Z",
     "iopub.status.busy": "2024-12-18T18:20:39.320321Z",
     "iopub.status.idle": "2024-12-18T18:20:39.341446Z",
     "shell.execute_reply": "2024-12-18T18:20:39.340433Z"
    },
    "papermill": {
     "duration": 0.035267,
     "end_time": "2024-12-18T18:20:39.343680",
     "exception": false,
     "start_time": "2024-12-18T18:20:39.308413",
     "status": "completed"
    },
    "tags": []
   },
   "outputs": [
    {
     "data": {
      "text/html": [
       "<div>\n",
       "<style scoped>\n",
       "    .dataframe tbody tr th:only-of-type {\n",
       "        vertical-align: middle;\n",
       "    }\n",
       "\n",
       "    .dataframe tbody tr th {\n",
       "        vertical-align: top;\n",
       "    }\n",
       "\n",
       "    .dataframe thead th {\n",
       "        text-align: right;\n",
       "    }\n",
       "</style>\n",
       "<table border=\"1\" class=\"dataframe\">\n",
       "  <thead>\n",
       "    <tr style=\"text-align: right;\">\n",
       "      <th></th>\n",
       "      <th>Row ID</th>\n",
       "      <th>Order ID</th>\n",
       "      <th>Order Date</th>\n",
       "      <th>Ship Date</th>\n",
       "      <th>Ship Mode</th>\n",
       "      <th>Customer ID</th>\n",
       "      <th>Customer Name</th>\n",
       "      <th>Segment</th>\n",
       "      <th>Country/Region</th>\n",
       "      <th>City</th>\n",
       "      <th>...</th>\n",
       "      <th>Postal Code</th>\n",
       "      <th>Region</th>\n",
       "      <th>Product ID</th>\n",
       "      <th>Category</th>\n",
       "      <th>Sub-Category</th>\n",
       "      <th>Product Name</th>\n",
       "      <th>Sales</th>\n",
       "      <th>Quantity</th>\n",
       "      <th>Discount</th>\n",
       "      <th>Profit</th>\n",
       "    </tr>\n",
       "  </thead>\n",
       "  <tbody>\n",
       "    <tr>\n",
       "      <th>10189</th>\n",
       "      <td>10190</td>\n",
       "      <td>US-2024-143259</td>\n",
       "      <td>30-12-2024</td>\n",
       "      <td>03-01-2025</td>\n",
       "      <td>Standard Class</td>\n",
       "      <td>PO-18865</td>\n",
       "      <td>Patrick O'Donnell</td>\n",
       "      <td>Consumer</td>\n",
       "      <td>United States</td>\n",
       "      <td>New York City</td>\n",
       "      <td>...</td>\n",
       "      <td>10009</td>\n",
       "      <td>East</td>\n",
       "      <td>OFF-BI-10003684</td>\n",
       "      <td>Office Supplies</td>\n",
       "      <td>Binders</td>\n",
       "      <td>Wilson Jones Legal Size Ring Binders</td>\n",
       "      <td>52.776</td>\n",
       "      <td>3</td>\n",
       "      <td>0.2</td>\n",
       "      <td>19.7910</td>\n",
       "    </tr>\n",
       "    <tr>\n",
       "      <th>10190</th>\n",
       "      <td>10191</td>\n",
       "      <td>US-2024-115427</td>\n",
       "      <td>30-12-2024</td>\n",
       "      <td>03-01-2025</td>\n",
       "      <td>Standard Class</td>\n",
       "      <td>EB-13975</td>\n",
       "      <td>Erica Bern</td>\n",
       "      <td>Corporate</td>\n",
       "      <td>United States</td>\n",
       "      <td>Fairfield</td>\n",
       "      <td>...</td>\n",
       "      <td>94533</td>\n",
       "      <td>West</td>\n",
       "      <td>OFF-BI-10004632</td>\n",
       "      <td>Office Supplies</td>\n",
       "      <td>Binders</td>\n",
       "      <td>GBC Binding covers</td>\n",
       "      <td>20.720</td>\n",
       "      <td>2</td>\n",
       "      <td>0.2</td>\n",
       "      <td>6.4750</td>\n",
       "    </tr>\n",
       "    <tr>\n",
       "      <th>10191</th>\n",
       "      <td>10192</td>\n",
       "      <td>US-2024-156720</td>\n",
       "      <td>30-12-2024</td>\n",
       "      <td>03-01-2025</td>\n",
       "      <td>Standard Class</td>\n",
       "      <td>JM-15580</td>\n",
       "      <td>Jill Matthias</td>\n",
       "      <td>Consumer</td>\n",
       "      <td>United States</td>\n",
       "      <td>Loveland</td>\n",
       "      <td>...</td>\n",
       "      <td>80538</td>\n",
       "      <td>West</td>\n",
       "      <td>OFF-FA-10003472</td>\n",
       "      <td>Office Supplies</td>\n",
       "      <td>Fasteners</td>\n",
       "      <td>Bagged Rubber Bands</td>\n",
       "      <td>3.024</td>\n",
       "      <td>3</td>\n",
       "      <td>0.2</td>\n",
       "      <td>-0.6048</td>\n",
       "    </tr>\n",
       "    <tr>\n",
       "      <th>10192</th>\n",
       "      <td>10193</td>\n",
       "      <td>US-2024-143259</td>\n",
       "      <td>30-12-2024</td>\n",
       "      <td>03-01-2025</td>\n",
       "      <td>Standard Class</td>\n",
       "      <td>PO-18865</td>\n",
       "      <td>Patrick O'Donnell</td>\n",
       "      <td>Consumer</td>\n",
       "      <td>United States</td>\n",
       "      <td>New York City</td>\n",
       "      <td>...</td>\n",
       "      <td>10009</td>\n",
       "      <td>East</td>\n",
       "      <td>TEC-PH-10004774</td>\n",
       "      <td>Technology</td>\n",
       "      <td>Phones</td>\n",
       "      <td>Gear Head AU3700S Headset</td>\n",
       "      <td>90.930</td>\n",
       "      <td>7</td>\n",
       "      <td>0.0</td>\n",
       "      <td>2.7279</td>\n",
       "    </tr>\n",
       "    <tr>\n",
       "      <th>10193</th>\n",
       "      <td>10194</td>\n",
       "      <td>CA-2024-143500</td>\n",
       "      <td>30-12-2024</td>\n",
       "      <td>03-01-2025</td>\n",
       "      <td>Standard Class</td>\n",
       "      <td>HO-15230</td>\n",
       "      <td>Harry Olson</td>\n",
       "      <td>Consumer</td>\n",
       "      <td>Canada</td>\n",
       "      <td>Charlottetown</td>\n",
       "      <td>...</td>\n",
       "      <td>C0A</td>\n",
       "      <td>East</td>\n",
       "      <td>OFF-BI-10004040</td>\n",
       "      <td>Office Supplies</td>\n",
       "      <td>Binders</td>\n",
       "      <td>Wilson Jones Impact Binders</td>\n",
       "      <td>3.024</td>\n",
       "      <td>3</td>\n",
       "      <td>0.2</td>\n",
       "      <td>-0.6048</td>\n",
       "    </tr>\n",
       "  </tbody>\n",
       "</table>\n",
       "<p>5 rows × 21 columns</p>\n",
       "</div>"
      ],
      "text/plain": [
       "       Row ID        Order ID  Order Date   Ship Date       Ship Mode  \\\n",
       "10189   10190  US-2024-143259  30-12-2024  03-01-2025  Standard Class   \n",
       "10190   10191  US-2024-115427  30-12-2024  03-01-2025  Standard Class   \n",
       "10191   10192  US-2024-156720  30-12-2024  03-01-2025  Standard Class   \n",
       "10192   10193  US-2024-143259  30-12-2024  03-01-2025  Standard Class   \n",
       "10193   10194  CA-2024-143500  30-12-2024  03-01-2025  Standard Class   \n",
       "\n",
       "      Customer ID      Customer Name    Segment Country/Region           City  \\\n",
       "10189    PO-18865  Patrick O'Donnell   Consumer  United States  New York City   \n",
       "10190    EB-13975         Erica Bern  Corporate  United States      Fairfield   \n",
       "10191    JM-15580      Jill Matthias   Consumer  United States       Loveland   \n",
       "10192    PO-18865  Patrick O'Donnell   Consumer  United States  New York City   \n",
       "10193    HO-15230        Harry Olson   Consumer         Canada  Charlottetown   \n",
       "\n",
       "       ... Postal Code Region       Product ID         Category Sub-Category  \\\n",
       "10189  ...       10009   East  OFF-BI-10003684  Office Supplies      Binders   \n",
       "10190  ...       94533   West  OFF-BI-10004632  Office Supplies      Binders   \n",
       "10191  ...       80538   West  OFF-FA-10003472  Office Supplies    Fasteners   \n",
       "10192  ...       10009   East  TEC-PH-10004774       Technology       Phones   \n",
       "10193  ...         C0A   East  OFF-BI-10004040  Office Supplies      Binders   \n",
       "\n",
       "                               Product Name   Sales  Quantity  Discount  \\\n",
       "10189  Wilson Jones Legal Size Ring Binders  52.776         3       0.2   \n",
       "10190                    GBC Binding covers  20.720         2       0.2   \n",
       "10191                   Bagged Rubber Bands   3.024         3       0.2   \n",
       "10192             Gear Head AU3700S Headset  90.930         7       0.0   \n",
       "10193           Wilson Jones Impact Binders   3.024         3       0.2   \n",
       "\n",
       "        Profit  \n",
       "10189  19.7910  \n",
       "10190   6.4750  \n",
       "10191  -0.6048  \n",
       "10192   2.7279  \n",
       "10193  -0.6048  \n",
       "\n",
       "[5 rows x 21 columns]"
      ]
     },
     "execution_count": 5,
     "metadata": {},
     "output_type": "execute_result"
    }
   ],
   "source": [
    "df.tail()  # verinin son 5 satırı"
   ]
  },
  {
   "cell_type": "markdown",
   "id": "183ec766",
   "metadata": {
    "papermill": {
     "duration": 0.010799,
     "end_time": "2024-12-18T18:20:39.365598",
     "exception": false,
     "start_time": "2024-12-18T18:20:39.354799",
     "status": "completed"
    },
    "tags": []
   },
   "source": [
    "Verinin boyutuna baktığımızda 10194 satırdan ve 21 sütundan oluştuğunu görüyoruz."
   ]
  },
  {
   "cell_type": "code",
   "execution_count": 6,
   "id": "6a1f911e",
   "metadata": {
    "execution": {
     "iopub.execute_input": "2024-12-18T18:20:39.389073Z",
     "iopub.status.busy": "2024-12-18T18:20:39.388708Z",
     "iopub.status.idle": "2024-12-18T18:20:39.395231Z",
     "shell.execute_reply": "2024-12-18T18:20:39.394158Z"
    },
    "papermill": {
     "duration": 0.020902,
     "end_time": "2024-12-18T18:20:39.397440",
     "exception": false,
     "start_time": "2024-12-18T18:20:39.376538",
     "status": "completed"
    },
    "tags": []
   },
   "outputs": [
    {
     "data": {
      "text/plain": [
       "(10194, 21)"
      ]
     },
     "execution_count": 6,
     "metadata": {},
     "output_type": "execute_result"
    }
   ],
   "source": [
    "df.shape"
   ]
  },
  {
   "cell_type": "markdown",
   "id": "1964af44",
   "metadata": {
    "papermill": {
     "duration": 0.0108,
     "end_time": "2024-12-18T18:20:39.419608",
     "exception": false,
     "start_time": "2024-12-18T18:20:39.408808",
     "status": "completed"
    },
    "tags": []
   },
   "source": [
    "Veri yapıları incelendiğinde 3 adet float, 2 adet integer, ve 16 adet object veri tipi olduğu görünmektedir.\n",
    "\n",
    "Veri setimizde boş değer bulunmamaktadır(Non-null)."
   ]
  },
  {
   "cell_type": "code",
   "execution_count": 7,
   "id": "47271570",
   "metadata": {
    "execution": {
     "iopub.execute_input": "2024-12-18T18:20:39.443763Z",
     "iopub.status.busy": "2024-12-18T18:20:39.442881Z",
     "iopub.status.idle": "2024-12-18T18:20:39.472426Z",
     "shell.execute_reply": "2024-12-18T18:20:39.471325Z"
    },
    "papermill": {
     "duration": 0.044179,
     "end_time": "2024-12-18T18:20:39.474795",
     "exception": false,
     "start_time": "2024-12-18T18:20:39.430616",
     "status": "completed"
    },
    "tags": []
   },
   "outputs": [
    {
     "data": {
      "text/plain": [
       "Row ID            10194\n",
       "Order ID           5111\n",
       "Order Date         1242\n",
       "Ship Date          1338\n",
       "Ship Mode             4\n",
       "Customer ID         804\n",
       "Customer Name       800\n",
       "Segment               3\n",
       "Country/Region        2\n",
       "City                542\n",
       "State/Province       59\n",
       "Postal Code         654\n",
       "Region                4\n",
       "Product ID         1862\n",
       "Category              3\n",
       "Sub-Category         17\n",
       "Product Name       1849\n",
       "Sales              5837\n",
       "Quantity             14\n",
       "Discount             12\n",
       "Profit             7334\n",
       "dtype: int64"
      ]
     },
     "execution_count": 7,
     "metadata": {},
     "output_type": "execute_result"
    }
   ],
   "source": [
    "df.nunique()"
   ]
  },
  {
   "cell_type": "markdown",
   "id": "89dc8653",
   "metadata": {
    "papermill": {
     "duration": 0.010835,
     "end_time": "2024-12-18T18:20:39.496994",
     "exception": false,
     "start_time": "2024-12-18T18:20:39.486159",
     "status": "completed"
    },
    "tags": []
   },
   "source": [
    "Bensersiz Row ID ve ve satır sayısı karşılaştırıldığında aynı değerleri aldığını gözlemlemekteyiz. Bunun sonucunda tekrarlı verilerin bulunmadı sonucuna ulaşırız."
   ]
  },
  {
   "cell_type": "code",
   "execution_count": 8,
   "id": "72cae6d8",
   "metadata": {
    "execution": {
     "iopub.execute_input": "2024-12-18T18:20:39.520894Z",
     "iopub.status.busy": "2024-12-18T18:20:39.520511Z",
     "iopub.status.idle": "2024-12-18T18:20:39.547064Z",
     "shell.execute_reply": "2024-12-18T18:20:39.545798Z"
    },
    "papermill": {
     "duration": 0.041516,
     "end_time": "2024-12-18T18:20:39.549663",
     "exception": false,
     "start_time": "2024-12-18T18:20:39.508147",
     "status": "completed"
    },
    "tags": []
   },
   "outputs": [
    {
     "name": "stdout",
     "output_type": "stream",
     "text": [
      "<class 'pandas.core.frame.DataFrame'>\n",
      "RangeIndex: 10194 entries, 0 to 10193\n",
      "Data columns (total 21 columns):\n",
      " #   Column          Non-Null Count  Dtype  \n",
      "---  ------          --------------  -----  \n",
      " 0   Row ID          10194 non-null  int64  \n",
      " 1   Order ID        10194 non-null  object \n",
      " 2   Order Date      10194 non-null  object \n",
      " 3   Ship Date       10194 non-null  object \n",
      " 4   Ship Mode       10194 non-null  object \n",
      " 5   Customer ID     10194 non-null  object \n",
      " 6   Customer Name   10194 non-null  object \n",
      " 7   Segment         10194 non-null  object \n",
      " 8   Country/Region  10194 non-null  object \n",
      " 9   City            10194 non-null  object \n",
      " 10  State/Province  10194 non-null  object \n",
      " 11  Postal Code     10194 non-null  object \n",
      " 12  Region          10194 non-null  object \n",
      " 13  Product ID      10194 non-null  object \n",
      " 14  Category        10194 non-null  object \n",
      " 15  Sub-Category    10194 non-null  object \n",
      " 16  Product Name    10194 non-null  object \n",
      " 17  Sales           10194 non-null  float64\n",
      " 18  Quantity        10194 non-null  int64  \n",
      " 19  Discount        10194 non-null  float64\n",
      " 20  Profit          10194 non-null  float64\n",
      "dtypes: float64(3), int64(2), object(16)\n",
      "memory usage: 1.6+ MB\n"
     ]
    }
   ],
   "source": [
    "df.info()"
   ]
  },
  {
   "cell_type": "markdown",
   "id": "1f639164",
   "metadata": {
    "papermill": {
     "duration": 0.011094,
     "end_time": "2024-12-18T18:20:39.572224",
     "exception": false,
     "start_time": "2024-12-18T18:20:39.561130",
     "status": "completed"
    },
    "tags": []
   },
   "source": [
    "## Betimsel İstatistikler"
   ]
  },
  {
   "cell_type": "markdown",
   "id": "d8a9f938",
   "metadata": {
    "papermill": {
     "duration": 0.010946,
     "end_time": "2024-12-18T18:20:39.594472",
     "exception": false,
     "start_time": "2024-12-18T18:20:39.583526",
     "status": "completed"
    },
    "tags": []
   },
   "source": [
    "Betimsel istatistikler, veri setindeki sayısal değerlerin ortalamadan ne kadar saptığını ve veri setinin özelliklerinin merkezi eğilimlerini ve dağılımlarını anlamamızı sağlar. Pandas kütüphanesinde, bu tür analizler için describe() metodu kullanılabilir. Bu metot, eksik değerleri göz ardı ederek yalnızca sayısal değişkenler üzerinde çalışır. Transpoz (.T) işlemiyle çıktıyı döndürerek daha farklı bir görünüm elde edebiliriz."
   ]
  },
  {
   "cell_type": "code",
   "execution_count": 9,
   "id": "855b7546",
   "metadata": {
    "execution": {
     "iopub.execute_input": "2024-12-18T18:20:39.619043Z",
     "iopub.status.busy": "2024-12-18T18:20:39.618306Z",
     "iopub.status.idle": "2024-12-18T18:20:39.646473Z",
     "shell.execute_reply": "2024-12-18T18:20:39.645104Z"
    },
    "papermill": {
     "duration": 0.043369,
     "end_time": "2024-12-18T18:20:39.649018",
     "exception": false,
     "start_time": "2024-12-18T18:20:39.605649",
     "status": "completed"
    },
    "tags": []
   },
   "outputs": [
    {
     "data": {
      "text/html": [
       "<div>\n",
       "<style scoped>\n",
       "    .dataframe tbody tr th:only-of-type {\n",
       "        vertical-align: middle;\n",
       "    }\n",
       "\n",
       "    .dataframe tbody tr th {\n",
       "        vertical-align: top;\n",
       "    }\n",
       "\n",
       "    .dataframe thead th {\n",
       "        text-align: right;\n",
       "    }\n",
       "</style>\n",
       "<table border=\"1\" class=\"dataframe\">\n",
       "  <thead>\n",
       "    <tr style=\"text-align: right;\">\n",
       "      <th></th>\n",
       "      <th>count</th>\n",
       "      <th>mean</th>\n",
       "      <th>std</th>\n",
       "      <th>min</th>\n",
       "      <th>25%</th>\n",
       "      <th>50%</th>\n",
       "      <th>75%</th>\n",
       "      <th>max</th>\n",
       "    </tr>\n",
       "  </thead>\n",
       "  <tbody>\n",
       "    <tr>\n",
       "      <th>Sales</th>\n",
       "      <td>10194.0</td>\n",
       "      <td>228.225854</td>\n",
       "      <td>619.906839</td>\n",
       "      <td>0.444</td>\n",
       "      <td>17.2200</td>\n",
       "      <td>53.91</td>\n",
       "      <td>209.500000</td>\n",
       "      <td>22638.480</td>\n",
       "    </tr>\n",
       "    <tr>\n",
       "      <th>Quantity</th>\n",
       "      <td>10194.0</td>\n",
       "      <td>3.791838</td>\n",
       "      <td>2.228317</td>\n",
       "      <td>1.000</td>\n",
       "      <td>2.0000</td>\n",
       "      <td>3.00</td>\n",
       "      <td>5.000000</td>\n",
       "      <td>14.000</td>\n",
       "    </tr>\n",
       "    <tr>\n",
       "      <th>Discount</th>\n",
       "      <td>10194.0</td>\n",
       "      <td>0.155385</td>\n",
       "      <td>0.206249</td>\n",
       "      <td>0.000</td>\n",
       "      <td>0.0000</td>\n",
       "      <td>0.20</td>\n",
       "      <td>0.200000</td>\n",
       "      <td>0.800</td>\n",
       "    </tr>\n",
       "    <tr>\n",
       "      <th>Profit</th>\n",
       "      <td>10194.0</td>\n",
       "      <td>28.673417</td>\n",
       "      <td>232.465115</td>\n",
       "      <td>-6599.978</td>\n",
       "      <td>1.7608</td>\n",
       "      <td>8.69</td>\n",
       "      <td>29.297925</td>\n",
       "      <td>8399.976</td>\n",
       "    </tr>\n",
       "  </tbody>\n",
       "</table>\n",
       "</div>"
      ],
      "text/plain": [
       "            count        mean         std       min      25%    50%  \\\n",
       "Sales     10194.0  228.225854  619.906839     0.444  17.2200  53.91   \n",
       "Quantity  10194.0    3.791838    2.228317     1.000   2.0000   3.00   \n",
       "Discount  10194.0    0.155385    0.206249     0.000   0.0000   0.20   \n",
       "Profit    10194.0   28.673417  232.465115 -6599.978   1.7608   8.69   \n",
       "\n",
       "                 75%        max  \n",
       "Sales     209.500000  22638.480  \n",
       "Quantity    5.000000     14.000  \n",
       "Discount    0.200000      0.800  \n",
       "Profit     29.297925   8399.976  "
      ]
     },
     "execution_count": 9,
     "metadata": {},
     "output_type": "execute_result"
    }
   ],
   "source": [
    "\n",
    "# Analiz edilecek sütunları seçme\n",
    "df[[\"Sales\", \"Quantity\", \"Discount\", \"Profit\"]].describe().T\n",
    "\n"
   ]
  },
  {
   "cell_type": "markdown",
   "id": "cb5bad02",
   "metadata": {
    "papermill": {
     "duration": 0.011327,
     "end_time": "2024-12-18T18:20:39.672186",
     "exception": false,
     "start_time": "2024-12-18T18:20:39.660859",
     "status": "completed"
    },
    "tags": []
   },
   "source": [
    "Tabloda ilk gözümüze çarpan şey kazanç satırında eksi değerin bulunmasıdır. Bu bir çok nedenden kaynaklanabilir. Arz- talep dengesinde bozukluklar, satışa çıkan ürünlerde oluşan problemler, mevsimsel etkiler, ekonomik nedenler, müşteri memnuniyetsizliği,satışlarda uygulanan büyük indirimler veya promosyonlar, ürünlerin maliyetlerinin altına inmesine yol açabilir, ürünlerin depolanması veya taşınması için yapılan yüksek maliyetler, gibi bir çok olasılık mevcuttur. Nedeni saptamak adına kök neden analizi yapılarak korelasyonlara bakılıp daha nicel sonuçlar elde etmek mümkündür. \n",
    "\n",
    "Bir diğer parametre olan satışlarda minimum ve maksimum değerler arasında ciddi fark bulunmaktadır.\n",
    "Bu satışların çok geniş bir aralığa yayıldığını gösterir. Yani, bazı ürünler veya işlemler çok düşük satışlarla yapılırken (yaklaşık 0.44), bazıları ise çok yüksek satışlara (22,638.48) ulaşmaktadır.\r\n",
    "Bu tür büyük farklar genellikle veri setinde uç noktaların (outliers) varlığını gösterir\n",
    "\n",
    "\n",
    "Şirketin, düşük satışları artırmak için stratejiler geliştirmesi gerekebilir ya da yüksek satışları desteklemek için belirli ürünlere veya kampanyalara daha fazla odaklanabilir.."
   ]
  },
  {
   "cell_type": "markdown",
   "id": "7d22e637",
   "metadata": {
    "papermill": {
     "duration": 0.011663,
     "end_time": "2024-12-18T18:20:39.695808",
     "exception": false,
     "start_time": "2024-12-18T18:20:39.684145",
     "status": "completed"
    },
    "tags": []
   },
   "source": [
    "**Değişkenlik Katsayısı**\n",
    "\n",
    "Veri setindeki değişkenlerin varyasyonunu görmek için, değişkenlik katsayılarına bakacağız. Değişkenlik katsayısı (coefficient of variation), bir değişkenin varyasyonunu, standart sapmasının ortalamaya oranı olarak ölçen bir istatistiksel ölçüttür. Genellikle yüzde (%) olarak ifade edilir."
   ]
  },
  {
   "cell_type": "markdown",
   "id": "9aa5105b",
   "metadata": {
    "papermill": {
     "duration": 0.011343,
     "end_time": "2024-12-18T18:20:39.719718",
     "exception": false,
     "start_time": "2024-12-18T18:20:39.708375",
     "status": "completed"
    },
    "tags": []
   },
   "source": [
    " ![Coefficient de variation (CV)![](https://learnsql.com/blog/statistical-queries-sql-measuring-spread-distribution/relative-standard-deviation.png)]"
   ]
  },
  {
   "cell_type": "markdown",
   "id": "06367f39",
   "metadata": {
    "papermill": {
     "duration": 0.011315,
     "end_time": "2024-12-18T18:20:39.743088",
     "exception": false,
     "start_time": "2024-12-18T18:20:39.731773",
     "status": "completed"
    },
    "tags": []
   },
   "source": [
    "Genel olarak değişkenlik katsayısı ile verilerin dağılımının ne kadar homojen veya heterojen olduğunu, değişkenler arasındaki genel varyasyon seviyelerini görme Değişkenlik katsayısı yüksek olan veriler, ortalama etrafında daha fazla yayılım gösterir ve daha fazla risk veya belirsizlik içerir."
   ]
  },
  {
   "cell_type": "code",
   "execution_count": 10,
   "id": "c83999f9",
   "metadata": {
    "execution": {
     "iopub.execute_input": "2024-12-18T18:20:39.768302Z",
     "iopub.status.busy": "2024-12-18T18:20:39.767864Z",
     "iopub.status.idle": "2024-12-18T18:20:39.778795Z",
     "shell.execute_reply": "2024-12-18T18:20:39.777178Z"
    },
    "papermill": {
     "duration": 0.026459,
     "end_time": "2024-12-18T18:20:39.781265",
     "exception": false,
     "start_time": "2024-12-18T18:20:39.754806",
     "status": "completed"
    },
    "tags": []
   },
   "outputs": [
    {
     "name": "stdout",
     "output_type": "stream",
     "text": [
      "Sales       271.619901\n",
      "Quantity     58.766135\n",
      "Discount    132.734307\n",
      "Profit      810.733906\n",
      "dtype: float64\n"
     ]
    }
   ],
   "source": [
    "db = df[[\"Sales\", \"Quantity\", \"Discount\", \"Profit\"]]\n",
    "degiskenlik_katsayisi = db.std()/db.mean()\n",
    "print(degiskenlik_katsayisi*100)"
   ]
  },
  {
   "cell_type": "code",
   "execution_count": 11,
   "id": "f32f225a",
   "metadata": {
    "execution": {
     "iopub.execute_input": "2024-12-18T18:20:39.806737Z",
     "iopub.status.busy": "2024-12-18T18:20:39.806302Z",
     "iopub.status.idle": "2024-12-18T18:20:40.075158Z",
     "shell.execute_reply": "2024-12-18T18:20:40.073848Z"
    },
    "papermill": {
     "duration": 0.284848,
     "end_time": "2024-12-18T18:20:40.077900",
     "exception": false,
     "start_time": "2024-12-18T18:20:39.793052",
     "status": "completed"
    },
    "tags": []
   },
   "outputs": [
    {
     "data": {
      "text/plain": [
       "<Axes: >"
      ]
     },
     "execution_count": 11,
     "metadata": {},
     "output_type": "execute_result"
    },
    {
     "data": {
      "image/png": "[encoded data removed]",
      "text/plain": [
       "<Figure size 640x480 with 1 Axes>"
      ]
     },
     "metadata": {},
     "output_type": "display_data"
    }
   ],
   "source": [
    "sirali_dk = degiskenlik_katsayisi.sort_values()\n",
    "sirali_dk.plot.barh(x = 'Değişkenler', y = 'Değişkenlik Katsayısı', color = '#967bb6')"
   ]
  },
  {
   "cell_type": "markdown",
   "id": "ac4efb43",
   "metadata": {
    "papermill": {
     "duration": 0.011829,
     "end_time": "2024-12-18T18:20:40.102084",
     "exception": false,
     "start_time": "2024-12-18T18:20:40.090255",
     "status": "completed"
    },
    "tags": []
   },
   "source": [
    "Tablodaki tüm değişkenlerin varyasyonu yüksektir fakat quantity değişkeni diğerlerine kıyasla daha tutarlı bir dağılım göstermektedir. Satış verileri oldukça değişken. Ortalama satış miktarına kıyasla büyük dalgalanmalar var.Kar verileri son derece değişken. Bu, bazı satışların çok zarar veya aşırı kâr getirdiğini gösterebilir.İndirim oranlarında çok yüksek bir değişkenlik var. Bazı durumlarda yüksek indirimler uygulanmış."
   ]
  },
  {
   "cell_type": "markdown",
   "id": "e0dae1ca",
   "metadata": {
    "papermill": {
     "duration": 0.011771,
     "end_time": "2024-12-18T18:20:40.125937",
     "exception": false,
     "start_time": "2024-12-18T18:20:40.114166",
     "status": "completed"
    },
    "tags": []
   },
   "source": [
    "İndirim değişkenine göre verileri gruplayarak diğer özelliklerin İndirim değişkeni ile alakasına sezgisel olarak bakabiliriz."
   ]
  },
  {
   "cell_type": "code",
   "execution_count": 12,
   "id": "74d8ac44",
   "metadata": {
    "execution": {
     "iopub.execute_input": "2024-12-18T18:20:40.154292Z",
     "iopub.status.busy": "2024-12-18T18:20:40.153892Z",
     "iopub.status.idle": "2024-12-18T18:20:40.188728Z",
     "shell.execute_reply": "2024-12-18T18:20:40.187670Z"
    },
    "papermill": {
     "duration": 0.051346,
     "end_time": "2024-12-18T18:20:40.191163",
     "exception": false,
     "start_time": "2024-12-18T18:20:40.139817",
     "status": "completed"
    },
    "tags": []
   },
   "outputs": [
    {
     "data": {
      "text/html": [
       "<div>\n",
       "<style scoped>\n",
       "    .dataframe tbody tr th:only-of-type {\n",
       "        vertical-align: middle;\n",
       "    }\n",
       "\n",
       "    .dataframe tbody tr th {\n",
       "        vertical-align: top;\n",
       "    }\n",
       "\n",
       "    .dataframe thead tr th {\n",
       "        text-align: left;\n",
       "    }\n",
       "\n",
       "    .dataframe thead tr:last-of-type th {\n",
       "        text-align: right;\n",
       "    }\n",
       "</style>\n",
       "<table border=\"1\" class=\"dataframe\">\n",
       "  <thead>\n",
       "    <tr>\n",
       "      <th></th>\n",
       "      <th colspan=\"4\" halign=\"left\">Sales</th>\n",
       "      <th colspan=\"4\" halign=\"left\">Quantity</th>\n",
       "      <th colspan=\"4\" halign=\"left\">Profit</th>\n",
       "    </tr>\n",
       "    <tr>\n",
       "      <th></th>\n",
       "      <th>std</th>\n",
       "      <th>mean</th>\n",
       "      <th>min</th>\n",
       "      <th>max</th>\n",
       "      <th>std</th>\n",
       "      <th>mean</th>\n",
       "      <th>min</th>\n",
       "      <th>max</th>\n",
       "      <th>std</th>\n",
       "      <th>mean</th>\n",
       "      <th>min</th>\n",
       "      <th>max</th>\n",
       "    </tr>\n",
       "    <tr>\n",
       "      <th>Discount</th>\n",
       "      <th></th>\n",
       "      <th></th>\n",
       "      <th></th>\n",
       "      <th></th>\n",
       "      <th></th>\n",
       "      <th></th>\n",
       "      <th></th>\n",
       "      <th></th>\n",
       "      <th></th>\n",
       "      <th></th>\n",
       "      <th></th>\n",
       "      <th></th>\n",
       "    </tr>\n",
       "  </thead>\n",
       "  <tbody>\n",
       "    <tr>\n",
       "      <th>0.00</th>\n",
       "      <td>646.669469</td>\n",
       "      <td>224.431226</td>\n",
       "      <td>0.9900</td>\n",
       "      <td>17499.9500</td>\n",
       "      <td>2.234723</td>\n",
       "      <td>3.811168</td>\n",
       "      <td>1</td>\n",
       "      <td>14</td>\n",
       "      <td>254.630419</td>\n",
       "      <td>66.338799</td>\n",
       "      <td>0.0000</td>\n",
       "      <td>8399.9760</td>\n",
       "    </tr>\n",
       "    <tr>\n",
       "      <th>0.10</th>\n",
       "      <td>704.067236</td>\n",
       "      <td>572.421844</td>\n",
       "      <td>29.4030</td>\n",
       "      <td>3785.2920</td>\n",
       "      <td>2.772970</td>\n",
       "      <td>3.927083</td>\n",
       "      <td>1</td>\n",
       "      <td>14</td>\n",
       "      <td>129.077361</td>\n",
       "      <td>94.791354</td>\n",
       "      <td>-8.0980</td>\n",
       "      <td>679.9960</td>\n",
       "    </tr>\n",
       "    <tr>\n",
       "      <th>0.15</th>\n",
       "      <td>542.848707</td>\n",
       "      <td>529.971567</td>\n",
       "      <td>102.8330</td>\n",
       "      <td>3406.6640</td>\n",
       "      <td>2.497359</td>\n",
       "      <td>3.807692</td>\n",
       "      <td>1</td>\n",
       "      <td>13</td>\n",
       "      <td>60.746393</td>\n",
       "      <td>27.288298</td>\n",
       "      <td>-40.1960</td>\n",
       "      <td>225.7350</td>\n",
       "    </tr>\n",
       "    <tr>\n",
       "      <th>0.20</th>\n",
       "      <td>474.191169</td>\n",
       "      <td>208.834160</td>\n",
       "      <td>1.3440</td>\n",
       "      <td>11199.9680</td>\n",
       "      <td>2.211561</td>\n",
       "      <td>3.738802</td>\n",
       "      <td>1</td>\n",
       "      <td>14</td>\n",
       "      <td>117.143082</td>\n",
       "      <td>24.576350</td>\n",
       "      <td>-1049.3406</td>\n",
       "      <td>3919.9888</td>\n",
       "    </tr>\n",
       "    <tr>\n",
       "      <th>0.30</th>\n",
       "      <td>434.360759</td>\n",
       "      <td>454.235074</td>\n",
       "      <td>37.2960</td>\n",
       "      <td>4416.1740</td>\n",
       "      <td>2.069355</td>\n",
       "      <td>3.717391</td>\n",
       "      <td>1</td>\n",
       "      <td>14</td>\n",
       "      <td>67.627303</td>\n",
       "      <td>-45.710633</td>\n",
       "      <td>-630.8820</td>\n",
       "      <td>156.0470</td>\n",
       "    </tr>\n",
       "    <tr>\n",
       "      <th>0.32</th>\n",
       "      <td>517.704839</td>\n",
       "      <td>536.794770</td>\n",
       "      <td>67.9932</td>\n",
       "      <td>2396.2656</td>\n",
       "      <td>2.407254</td>\n",
       "      <td>3.888889</td>\n",
       "      <td>1</td>\n",
       "      <td>10</td>\n",
       "      <td>103.439178</td>\n",
       "      <td>-88.560656</td>\n",
       "      <td>-437.5404</td>\n",
       "      <td>-6.0196</td>\n",
       "    </tr>\n",
       "    <tr>\n",
       "      <th>0.40</th>\n",
       "      <td>957.204041</td>\n",
       "      <td>562.791101</td>\n",
       "      <td>2.9700</td>\n",
       "      <td>8399.9760</td>\n",
       "      <td>2.464951</td>\n",
       "      <td>3.811594</td>\n",
       "      <td>1</td>\n",
       "      <td>14</td>\n",
       "      <td>237.487863</td>\n",
       "      <td>-111.528378</td>\n",
       "      <td>-1862.3124</td>\n",
       "      <td>1119.9968</td>\n",
       "    </tr>\n",
       "    <tr>\n",
       "      <th>0.45</th>\n",
       "      <td>281.888478</td>\n",
       "      <td>498.634000</td>\n",
       "      <td>174.0585</td>\n",
       "      <td>957.5775</td>\n",
       "      <td>1.972539</td>\n",
       "      <td>4.090909</td>\n",
       "      <td>1</td>\n",
       "      <td>7</td>\n",
       "      <td>137.543658</td>\n",
       "      <td>-226.646464</td>\n",
       "      <td>-458.1468</td>\n",
       "      <td>-76.6062</td>\n",
       "    </tr>\n",
       "    <tr>\n",
       "      <th>0.50</th>\n",
       "      <td>2917.844258</td>\n",
       "      <td>892.705152</td>\n",
       "      <td>32.9850</td>\n",
       "      <td>22638.4800</td>\n",
       "      <td>1.852171</td>\n",
       "      <td>3.651515</td>\n",
       "      <td>1</td>\n",
       "      <td>9</td>\n",
       "      <td>547.455453</td>\n",
       "      <td>-310.703456</td>\n",
       "      <td>-3839.9904</td>\n",
       "      <td>-1.8295</td>\n",
       "    </tr>\n",
       "    <tr>\n",
       "      <th>0.60</th>\n",
       "      <td>68.848493</td>\n",
       "      <td>47.690872</td>\n",
       "      <td>1.8920</td>\n",
       "      <td>419.6800</td>\n",
       "      <td>1.834653</td>\n",
       "      <td>3.718121</td>\n",
       "      <td>1</td>\n",
       "      <td>9</td>\n",
       "      <td>77.116908</td>\n",
       "      <td>-41.371458</td>\n",
       "      <td>-427.4500</td>\n",
       "      <td>-0.7566</td>\n",
       "    </tr>\n",
       "    <tr>\n",
       "      <th>0.70</th>\n",
       "      <td>339.200300</td>\n",
       "      <td>96.238835</td>\n",
       "      <td>0.8520</td>\n",
       "      <td>4499.9850</td>\n",
       "      <td>2.233878</td>\n",
       "      <td>3.948113</td>\n",
       "      <td>1</td>\n",
       "      <td>14</td>\n",
       "      <td>417.066696</td>\n",
       "      <td>-95.048521</td>\n",
       "      <td>-6599.9780</td>\n",
       "      <td>-0.5964</td>\n",
       "    </tr>\n",
       "    <tr>\n",
       "      <th>0.80</th>\n",
       "      <td>216.419213</td>\n",
       "      <td>56.412445</td>\n",
       "      <td>0.4440</td>\n",
       "      <td>2177.5840</td>\n",
       "      <td>2.281336</td>\n",
       "      <td>3.953488</td>\n",
       "      <td>1</td>\n",
       "      <td>14</td>\n",
       "      <td>356.197387</td>\n",
       "      <td>-101.545745</td>\n",
       "      <td>-3701.8928</td>\n",
       "      <td>-0.9452</td>\n",
       "    </tr>\n",
       "  </tbody>\n",
       "</table>\n",
       "</div>"
      ],
      "text/plain": [
       "                Sales                                    Quantity            \\\n",
       "                  std        mean       min         max       std      mean   \n",
       "Discount                                                                      \n",
       "0.00       646.669469  224.431226    0.9900  17499.9500  2.234723  3.811168   \n",
       "0.10       704.067236  572.421844   29.4030   3785.2920  2.772970  3.927083   \n",
       "0.15       542.848707  529.971567  102.8330   3406.6640  2.497359  3.807692   \n",
       "0.20       474.191169  208.834160    1.3440  11199.9680  2.211561  3.738802   \n",
       "0.30       434.360759  454.235074   37.2960   4416.1740  2.069355  3.717391   \n",
       "0.32       517.704839  536.794770   67.9932   2396.2656  2.407254  3.888889   \n",
       "0.40       957.204041  562.791101    2.9700   8399.9760  2.464951  3.811594   \n",
       "0.45       281.888478  498.634000  174.0585    957.5775  1.972539  4.090909   \n",
       "0.50      2917.844258  892.705152   32.9850  22638.4800  1.852171  3.651515   \n",
       "0.60        68.848493   47.690872    1.8920    419.6800  1.834653  3.718121   \n",
       "0.70       339.200300   96.238835    0.8520   4499.9850  2.233878  3.948113   \n",
       "0.80       216.419213   56.412445    0.4440   2177.5840  2.281336  3.953488   \n",
       "\n",
       "                      Profit                                    \n",
       "         min max         std        mean        min        max  \n",
       "Discount                                                        \n",
       "0.00       1  14  254.630419   66.338799     0.0000  8399.9760  \n",
       "0.10       1  14  129.077361   94.791354    -8.0980   679.9960  \n",
       "0.15       1  13   60.746393   27.288298   -40.1960   225.7350  \n",
       "0.20       1  14  117.143082   24.576350 -1049.3406  3919.9888  \n",
       "0.30       1  14   67.627303  -45.710633  -630.8820   156.0470  \n",
       "0.32       1  10  103.439178  -88.560656  -437.5404    -6.0196  \n",
       "0.40       1  14  237.487863 -111.528378 -1862.3124  1119.9968  \n",
       "0.45       1   7  137.543658 -226.646464  -458.1468   -76.6062  \n",
       "0.50       1   9  547.455453 -310.703456 -3839.9904    -1.8295  \n",
       "0.60       1   9   77.116908  -41.371458  -427.4500    -0.7566  \n",
       "0.70       1  14  417.066696  -95.048521 -6599.9780    -0.5964  \n",
       "0.80       1  14  356.197387 -101.545745 -3701.8928    -0.9452  "
      ]
     },
     "execution_count": 12,
     "metadata": {},
     "output_type": "execute_result"
    }
   ],
   "source": [
    "db = df[[\"Sales\", \"Quantity\", \"Discount\", \"Profit\"]]\n",
    "db.groupby('Discount').agg(['std','mean','min','max'])"
   ]
  },
  {
   "cell_type": "markdown",
   "id": "bb972a9d",
   "metadata": {
    "papermill": {
     "duration": 0.012238,
     "end_time": "2024-12-18T18:20:40.218508",
     "exception": false,
     "start_time": "2024-12-18T18:20:40.206270",
     "status": "completed"
    },
    "tags": []
   },
   "source": [
    "Tabloya göre yüksek indirim oranlarında zarar etme olasılığı artıyor. Özellikle %50'nin üzerindeki indirim oranlarında minimum kar değerleri genellikle negatif.Yüksek indirim oranlarında satışların standart sapması artıyor. Bu, bazı ürünlerin indirimden çok faydalandığını (çok satıldığını) ancak bazılarının etkilenmediğini gösterebilir.Çok yüksek indirim oranları uzun vadede zarar ettirebilir. Orta düzeyde (örneğin %10-20 arası) indirimler, karı dengede tutarken satışları artırabilir."
   ]
  },
  {
   "cell_type": "code",
   "execution_count": 13,
   "id": "2f894e81",
   "metadata": {
    "execution": {
     "iopub.execute_input": "2024-12-18T18:20:40.245118Z",
     "iopub.status.busy": "2024-12-18T18:20:40.244722Z",
     "iopub.status.idle": "2024-12-18T18:20:40.615449Z",
     "shell.execute_reply": "2024-12-18T18:20:40.614297Z"
    },
    "papermill": {
     "duration": 0.386915,
     "end_time": "2024-12-18T18:20:40.617903",
     "exception": false,
     "start_time": "2024-12-18T18:20:40.230988",
     "status": "completed"
    },
    "tags": []
   },
   "outputs": [
    {
     "data": {
      "image/png": "[encoded data removed]",
      "text/plain": [
       "<Figure size 640x480 with 1 Axes>"
      ]
     },
     "metadata": {},
     "output_type": "display_data"
    }
   ],
   "source": [
    "# kdeplot ilgili numerik değişkenin yoğunluğunu gösterir.\n",
    "sns.kdeplot(df['Quantity'], fill = True);"
   ]
  },
  {
   "cell_type": "markdown",
   "id": "cb94755f",
   "metadata": {
    "papermill": {
     "duration": 0.013338,
     "end_time": "2024-12-18T18:20:40.646036",
     "exception": false,
     "start_time": "2024-12-18T18:20:40.632698",
     "status": "completed"
    },
    "tags": []
   },
   "source": [
    "## Kategorik Değişken Analizi \n",
    "\n"
   ]
  },
  {
   "cell_type": "markdown",
   "id": "95ee416e",
   "metadata": {
    "papermill": {
     "duration": 0.01358,
     "end_time": "2024-12-18T18:20:40.674003",
     "exception": false,
     "start_time": "2024-12-18T18:20:40.660423",
     "status": "completed"
    },
    "tags": []
   },
   "source": [
    "Veri setinde object olarak belirtilen fakat kategorik değişkenler bulunmaktadır. Bunların tespit edilmesi ve veri türünün değiştirilmesi tutarlı ve doğru bir analiz için oldukça önem arz etmektedir."
   ]
  },
  {
   "cell_type": "code",
   "execution_count": 14,
   "id": "58221a1a",
   "metadata": {
    "execution": {
     "iopub.execute_input": "2024-12-18T18:20:40.703900Z",
     "iopub.status.busy": "2024-12-18T18:20:40.703527Z",
     "iopub.status.idle": "2024-12-18T18:20:40.727402Z",
     "shell.execute_reply": "2024-12-18T18:20:40.726108Z"
    },
    "papermill": {
     "duration": 0.040935,
     "end_time": "2024-12-18T18:20:40.729835",
     "exception": false,
     "start_time": "2024-12-18T18:20:40.688900",
     "status": "completed"
    },
    "tags": []
   },
   "outputs": [
    {
     "name": "stdout",
     "output_type": "stream",
     "text": [
      "Order ID          5111\n",
      "Order Date        1242\n",
      "Ship Date         1338\n",
      "Ship Mode            4\n",
      "Customer ID        804\n",
      "Customer Name      800\n",
      "Segment              3\n",
      "Country/Region       2\n",
      "City               542\n",
      "State/Province      59\n",
      "Postal Code        654\n",
      "Region               4\n",
      "Product ID        1862\n",
      "Category             3\n",
      "Sub-Category        17\n",
      "Product Name      1849\n",
      "dtype: int64\n"
     ]
    }
   ],
   "source": [
    "# Kategorik sütunların benzersiz değer sayılarını bulma\n",
    "unique_counts = df.loc[:, df.dtypes == \"object\"].nunique()\n",
    "print(unique_counts)\n"
   ]
  },
  {
   "cell_type": "code",
   "execution_count": 15,
   "id": "4656128e",
   "metadata": {
    "execution": {
     "iopub.execute_input": "2024-12-18T18:20:40.758069Z",
     "iopub.status.busy": "2024-12-18T18:20:40.757664Z",
     "iopub.status.idle": "2024-12-18T18:20:40.772579Z",
     "shell.execute_reply": "2024-12-18T18:20:40.771391Z"
    },
    "papermill": {
     "duration": 0.03208,
     "end_time": "2024-12-18T18:20:40.775332",
     "exception": false,
     "start_time": "2024-12-18T18:20:40.743252",
     "status": "completed"
    },
    "tags": []
   },
   "outputs": [],
   "source": [
    "low_cardinality_columns = unique_counts[unique_counts < 10].index\n",
    "\n",
    "\n",
    "df[low_cardinality_columns] = df[low_cardinality_columns].astype(\"category\")\n"
   ]
  },
  {
   "cell_type": "code",
   "execution_count": 16,
   "id": "ec94e7ce",
   "metadata": {
    "execution": {
     "iopub.execute_input": "2024-12-18T18:20:40.804462Z",
     "iopub.status.busy": "2024-12-18T18:20:40.804040Z",
     "iopub.status.idle": "2024-12-18T18:20:40.827298Z",
     "shell.execute_reply": "2024-12-18T18:20:40.825908Z"
    },
    "papermill": {
     "duration": 0.041249,
     "end_time": "2024-12-18T18:20:40.829949",
     "exception": false,
     "start_time": "2024-12-18T18:20:40.788700",
     "status": "completed"
    },
    "tags": []
   },
   "outputs": [
    {
     "name": "stdout",
     "output_type": "stream",
     "text": [
      "<class 'pandas.core.frame.DataFrame'>\n",
      "RangeIndex: 10194 entries, 0 to 10193\n",
      "Data columns (total 21 columns):\n",
      " #   Column          Non-Null Count  Dtype   \n",
      "---  ------          --------------  -----   \n",
      " 0   Row ID          10194 non-null  int64   \n",
      " 1   Order ID        10194 non-null  object  \n",
      " 2   Order Date      10194 non-null  object  \n",
      " 3   Ship Date       10194 non-null  object  \n",
      " 4   Ship Mode       10194 non-null  category\n",
      " 5   Customer ID     10194 non-null  object  \n",
      " 6   Customer Name   10194 non-null  object  \n",
      " 7   Segment         10194 non-null  category\n",
      " 8   Country/Region  10194 non-null  category\n",
      " 9   City            10194 non-null  object  \n",
      " 10  State/Province  10194 non-null  object  \n",
      " 11  Postal Code     10194 non-null  object  \n",
      " 12  Region          10194 non-null  category\n",
      " 13  Product ID      10194 non-null  object  \n",
      " 14  Category        10194 non-null  category\n",
      " 15  Sub-Category    10194 non-null  object  \n",
      " 16  Product Name    10194 non-null  object  \n",
      " 17  Sales           10194 non-null  float64 \n",
      " 18  Quantity        10194 non-null  int64   \n",
      " 19  Discount        10194 non-null  float64 \n",
      " 20  Profit          10194 non-null  float64 \n",
      "dtypes: category(5), float64(3), int64(2), object(11)\n",
      "memory usage: 1.3+ MB\n"
     ]
    }
   ],
   "source": [
    "df.info()\n"
   ]
  },
  {
   "cell_type": "code",
   "execution_count": 17,
   "id": "194c6f99",
   "metadata": {
    "execution": {
     "iopub.execute_input": "2024-12-18T18:20:40.858372Z",
     "iopub.status.busy": "2024-12-18T18:20:40.857959Z",
     "iopub.status.idle": "2024-12-18T18:20:41.091391Z",
     "shell.execute_reply": "2024-12-18T18:20:41.090225Z"
    },
    "papermill": {
     "duration": 0.250429,
     "end_time": "2024-12-18T18:20:41.093837",
     "exception": false,
     "start_time": "2024-12-18T18:20:40.843408",
     "status": "completed"
    },
    "tags": []
   },
   "outputs": [
    {
     "data": {
      "text/plain": [
       "<Axes: xlabel='Category', ylabel='Sales'>"
      ]
     },
     "execution_count": 17,
     "metadata": {},
     "output_type": "execute_result"
    },
    {
     "data": {
      "image/png": "[encoded data removed]",
      "text/plain": [
       "<Figure size 640x480 with 1 Axes>"
      ]
     },
     "metadata": {},
     "output_type": "display_data"
    }
   ],
   "source": [
    "\n",
    "sns.boxplot(x='Category', y='Sales', data=df)"
   ]
  },
  {
   "cell_type": "markdown",
   "id": "4a67ca0f",
   "metadata": {
    "papermill": {
     "duration": 0.01378,
     "end_time": "2024-12-18T18:20:41.121637",
     "exception": false,
     "start_time": "2024-12-18T18:20:41.107857",
     "status": "completed"
    },
    "tags": []
   },
   "source": [
    "Office Supplies kategorisi, satışların çoğunluğunu oluşturuyor gibi görünüyor; diğer kategorilere göre daha düzenli bir dağılıma sahip.\r\n",
    "Technology kategorisinde hem çok yüksek satışlar hem de birçok düşük satış var; bu da büyük bir çeşitlilik ve potansiyel dengesizlik anlamına gelebilirAykırı değerler çok fazla..\r\n",
    "Furniture kategorisi daha tutarlı bir dağılım gösteriyor ancak çok yüksek satış değerlerine ulaşmamı\n",
    "\n",
    "\n",
    "Technology kategorisinde büyük satışları artırmaya yönelik stratejiler geliştirilebilir,örneğin indirim,promosyon kampanyaları gibi satış stratejileri uygulanabilir, ancak düşük satışların nedenleri de analiz edilmeli.ş."
   ]
  },
  {
   "cell_type": "code",
   "execution_count": 18,
   "id": "a2b0b72c",
   "metadata": {
    "execution": {
     "iopub.execute_input": "2024-12-18T18:20:41.152046Z",
     "iopub.status.busy": "2024-12-18T18:20:41.151670Z",
     "iopub.status.idle": "2024-12-18T18:20:41.474371Z",
     "shell.execute_reply": "2024-12-18T18:20:41.473295Z"
    },
    "papermill": {
     "duration": 0.341159,
     "end_time": "2024-12-18T18:20:41.476572",
     "exception": false,
     "start_time": "2024-12-18T18:20:41.135413",
     "status": "completed"
    },
    "tags": []
   },
   "outputs": [
    {
     "data": {
      "image/png": "[encoded data removed]",
      "text/plain": [
       "<Figure size 500x500 with 1 Axes>"
      ]
     },
     "metadata": {},
     "output_type": "display_data"
    }
   ],
   "source": [
    "sns.catplot(data = df,\n",
    "            x = \"Region\",\n",
    "            y = \"Profit\");"
   ]
  },
  {
   "cell_type": "markdown",
   "id": "aeeff92c",
   "metadata": {
    "papermill": {
     "duration": 0.015936,
     "end_time": "2024-12-18T18:20:41.507027",
     "exception": false,
     "start_time": "2024-12-18T18:20:41.491091",
     "status": "completed"
    },
    "tags": []
   },
   "source": [
    "Tüm bölgelerde kar dağılımı benzer bir desen sergiliyor, ancak bazı bölgelerde istisnai kar veya zarar durumları var.\n",
    "\r",
    "Southt bölgesi, daha dengeli bir kar dağılımına sahip gibi görünüyor\n",
    "\n",
    ".\r\n",
    "Aşırı değerler (outlier) olan noktalar, satış süreçlerinde farklı bir dinamik veya belirli ürün gruplarında anormal bir durum olduğunu gösterebilir."
   ]
  },
  {
   "cell_type": "code",
   "execution_count": 19,
   "id": "6f555486",
   "metadata": {
    "execution": {
     "iopub.execute_input": "2024-12-18T18:20:41.537270Z",
     "iopub.status.busy": "2024-12-18T18:20:41.536852Z",
     "iopub.status.idle": "2024-12-18T18:20:42.003480Z",
     "shell.execute_reply": "2024-12-18T18:20:42.002304Z"
    },
    "papermill": {
     "duration": 0.484388,
     "end_time": "2024-12-18T18:20:42.005903",
     "exception": false,
     "start_time": "2024-12-18T18:20:41.521515",
     "status": "completed"
    },
    "tags": []
   },
   "outputs": [
    {
     "data": {
      "image/png": "[encoded data removed]",
      "text/plain": [
       "<Figure size 1500x800 with 1 Axes>"
      ]
     },
     "metadata": {},
     "output_type": "display_data"
    }
   ],
   "source": [
    "plt.figure(figsize = (15, 8))\n",
    "sns.barplot(data = df,\n",
    "            x = \"Country/Region\",\n",
    "            y = \"Profit\",\n",
    "            hue = \"Segment\");"
   ]
  },
  {
   "cell_type": "markdown",
   "id": "182b1c5f",
   "metadata": {
    "papermill": {
     "duration": 0.01462,
     "end_time": "2024-12-18T18:20:42.035580",
     "exception": false,
     "start_time": "2024-12-18T18:20:42.020960",
     "status": "completed"
    },
    "tags": []
   },
   "source": [
    "Tabloya baktığımızda iki ülkenin ürün bazında kar sıralamaları aynı olmaktadır. İki ülkede de en çok satış yapılan ürün grubu home office grubudur. Fakat United States, Canada'ya göre daha tutarlı bir kar yapısına sahiptir."
   ]
  },
  {
   "cell_type": "code",
   "execution_count": 20,
   "id": "646ddacf",
   "metadata": {
    "execution": {
     "iopub.execute_input": "2024-12-18T18:20:42.067125Z",
     "iopub.status.busy": "2024-12-18T18:20:42.066701Z",
     "iopub.status.idle": "2024-12-18T18:20:42.739825Z",
     "shell.execute_reply": "2024-12-18T18:20:42.738719Z"
    },
    "papermill": {
     "duration": 0.691557,
     "end_time": "2024-12-18T18:20:42.741991",
     "exception": false,
     "start_time": "2024-12-18T18:20:42.050434",
     "status": "completed"
    },
    "tags": []
   },
   "outputs": [
    {
     "data": {
      "image/png": "[encoded data removed]",
      "text/plain": [
       "<Figure size 500x500 with 1 Axes>"
      ]
     },
     "metadata": {},
     "output_type": "display_data"
    }
   ],
   "source": [
    "# Çizgi grafik ile numerik değişkenlerin tarihsel olarak değişimini gözlemleyebiliriz.\n",
    "df[\"Order Date\"] =df[\"Order Date\"].astype(\"datetime64[ns]\")\n",
    "df[\"year\"]= df[\"Order Date\"].dt.strftime(\"%Y\")\n",
    "plt.figure(figsize = (5, 5))\n",
    "sns.lineplot(data = df,\n",
    "             x = \"year\",\n",
    "             y = \"Sales\",\n",
    "             hue = \"Category\");\n"
   ]
  },
  {
   "cell_type": "markdown",
   "id": "99540e8d",
   "metadata": {
    "papermill": {
     "duration": 0.015395,
     "end_time": "2024-12-18T18:20:42.773281",
     "exception": false,
     "start_time": "2024-12-18T18:20:42.757886",
     "status": "completed"
    },
    "tags": []
   },
   "source": [
    "Grafiğe baktığımızda ofis malzemelerinin genellikle aynı seviyede satış düzeyine sahip olduğu görülmektedir.2022 itibariyle hafif bir artış görülmekle birlikte pandemi sonrası ofise dönüş etkisi olabilir. 2022 yılının sonuna kadar devam eden pandeminin etkisi ışığında oluşan ekonomik krizin etkisiyle birlikte teknolojik aletlerin satışında düşüş görülmektedir. Mobilya kategorisinde durum tam tersi olup satışlar artmıştır. Pandemi bitimiyle birlikte satışlar yükselmiş olup, 2023 yılında oluşan dünya geneli enflasyondan etkilenmesi muhtemel olan satışlarda düşüş mevcuttur. "
   ]
  },
  {
   "cell_type": "markdown",
   "id": "b463946d",
   "metadata": {
    "papermill": {
     "duration": 0.015221,
     "end_time": "2024-12-18T18:20:42.804122",
     "exception": false,
     "start_time": "2024-12-18T18:20:42.788901",
     "status": "completed"
    },
    "tags": []
   },
   "source": [
    "## Aykırı Değer Analizi (Outliers)"
   ]
  },
  {
   "cell_type": "markdown",
   "id": "5a134ae2",
   "metadata": {
    "papermill": {
     "duration": 0.015274,
     "end_time": "2024-12-18T18:20:42.835075",
     "exception": false,
     "start_time": "2024-12-18T18:20:42.819801",
     "status": "completed"
    },
    "tags": []
   },
   "source": [
    "Aykırı değerlerin analizi, tıpkı eksik verilerde olduğu gibi dikkatli bir şekilde ele alınmalıdır. Veri setinde aykırı değerlerin bulunması, dağılımları etkileyerek tahmin modellerinin genelleme yeteneğini düşürebilir. Bu nedenle, aykırı değerlerle çalışırken doğru yöntemlerin seçilmesi önemlidir.\n",
    "\n",
    "Aykırı değerlerin tespit ve analizi için sektörel bilgiye dayalı değerlendirmeler, standart sapma yöntemi, Z-skoru analizi ve IQR (çeyrekler arası aralık) yöntemi gibi çeşitli tekniklerden faydalanılabilir."
   ]
  },
  {
   "cell_type": "code",
   "execution_count": 21,
   "id": "f154d707",
   "metadata": {
    "execution": {
     "iopub.execute_input": "2024-12-18T18:20:42.867980Z",
     "iopub.status.busy": "2024-12-18T18:20:42.867606Z",
     "iopub.status.idle": "2024-12-18T18:20:43.014829Z",
     "shell.execute_reply": "2024-12-18T18:20:43.013705Z"
    },
    "papermill": {
     "duration": 0.167668,
     "end_time": "2024-12-18T18:20:43.018395",
     "exception": false,
     "start_time": "2024-12-18T18:20:42.850727",
     "status": "completed"
    },
    "tags": []
   },
   "outputs": [
    {
     "data": {
      "image/png": "[encoded data removed]",
      "text/plain": [
       "<Figure size 800x600 with 1 Axes>"
      ]
     },
     "metadata": {},
     "output_type": "display_data"
    }
   ],
   "source": [
    "# Bir değişkendeki IQR'a göre aykırı gözlemleri boxplot kullanarak görselleştirelim.\n",
    "plt.figure(figsize = (8, 6))\n",
    "sns.boxplot(data = df,\n",
    "            y = df[\"Sales\"],\n",
    "            orient = \"v\");"
   ]
  },
  {
   "cell_type": "code",
   "execution_count": 22,
   "id": "dcd00863",
   "metadata": {
    "execution": {
     "iopub.execute_input": "2024-12-18T18:20:43.058293Z",
     "iopub.status.busy": "2024-12-18T18:20:43.057897Z",
     "iopub.status.idle": "2024-12-18T18:20:43.067092Z",
     "shell.execute_reply": "2024-12-18T18:20:43.066004Z"
    },
    "papermill": {
     "duration": 0.028766,
     "end_time": "2024-12-18T18:20:43.069331",
     "exception": false,
     "start_time": "2024-12-18T18:20:43.040565",
     "status": "completed"
    },
    "tags": []
   },
   "outputs": [
    {
     "data": {
      "text/plain": [
       "0         16.448\n",
       "1          3.540\n",
       "2         11.784\n",
       "3        272.736\n",
       "4         19.536\n",
       "          ...   \n",
       "10189     52.776\n",
       "10190     20.720\n",
       "10191      3.024\n",
       "10192     90.930\n",
       "10193      3.024\n",
       "Name: Sales, Length: 10194, dtype: float64"
      ]
     },
     "execution_count": 22,
     "metadata": {},
     "output_type": "execute_result"
    }
   ],
   "source": [
    "Sales = df['Sales']\n",
    "Sales"
   ]
  },
  {
   "cell_type": "code",
   "execution_count": 23,
   "id": "f636a179",
   "metadata": {
    "execution": {
     "iopub.execute_input": "2024-12-18T18:20:43.104000Z",
     "iopub.status.busy": "2024-12-18T18:20:43.103588Z",
     "iopub.status.idle": "2024-12-18T18:20:43.114030Z",
     "shell.execute_reply": "2024-12-18T18:20:43.112795Z"
    },
    "papermill": {
     "duration": 0.030168,
     "end_time": "2024-12-18T18:20:43.116231",
     "exception": false,
     "start_time": "2024-12-18T18:20:43.086063",
     "status": "completed"
    },
    "tags": []
   },
   "outputs": [
    {
     "name": "stdout",
     "output_type": "stream",
     "text": [
      "17.22\n",
      "209.5\n",
      "192.28\n"
     ]
    }
   ],
   "source": [
    "# Quantile değerlerin belirlenmesi.\n",
    "Q1 = Sales.quantile(0.25)\n",
    "Q3 = Sales.quantile(0.75)\n",
    "\n",
    "print(Q1)\n",
    "print(Q3)\n",
    "\n",
    "# IQR değerin belirlenmesi.\n",
    "IQR = Q3-Q1\n",
    "print(IQR)\n",
    "\n",
    "# Alt ve üst sınırların belirlenmesi.\n",
    "lower_fence = Q1 - 1.5*IQR\n",
    "upper_fence = Q3 + 1.5*IQR"
   ]
  },
  {
   "cell_type": "code",
   "execution_count": 24,
   "id": "65de8483",
   "metadata": {
    "execution": {
     "iopub.execute_input": "2024-12-18T18:20:43.152133Z",
     "iopub.status.busy": "2024-12-18T18:20:43.151491Z",
     "iopub.status.idle": "2024-12-18T18:20:43.160089Z",
     "shell.execute_reply": "2024-12-18T18:20:43.159104Z"
    },
    "papermill": {
     "duration": 0.029702,
     "end_time": "2024-12-18T18:20:43.162131",
     "exception": false,
     "start_time": "2024-12-18T18:20:43.132429",
     "status": "completed"
    },
    "tags": []
   },
   "outputs": [
    {
     "data": {
      "text/plain": [
       "Index([    5,     8,    12,    22,    29,    30,    31,    43,    59,   102,\n",
       "       ...\n",
       "       10072, 10085, 10091, 10107, 10120, 10121, 10137, 10149, 10169, 10172],\n",
       "      dtype='int64', length=1183)"
      ]
     },
     "execution_count": 24,
     "metadata": {},
     "output_type": "execute_result"
    }
   ],
   "source": [
    "# Upper_fence üzerinde kalan aykırı gözlemlerin index değerlerini, daha sonra kullanmak üzere bir değişkende tutabiliriz.\n",
    "outlier_idx = Sales[Sales > upper_fence].index\n",
    "\n",
    "outlier_idx"
   ]
  },
  {
   "cell_type": "code",
   "execution_count": 25,
   "id": "44b8cf54",
   "metadata": {
    "execution": {
     "iopub.execute_input": "2024-12-18T18:20:43.197011Z",
     "iopub.status.busy": "2024-12-18T18:20:43.196589Z",
     "iopub.status.idle": "2024-12-18T18:20:43.205755Z",
     "shell.execute_reply": "2024-12-18T18:20:43.204742Z"
    },
    "papermill": {
     "duration": 0.029363,
     "end_time": "2024-12-18T18:20:43.207838",
     "exception": false,
     "start_time": "2024-12-18T18:20:43.178475",
     "status": "completed"
    },
    "tags": []
   },
   "outputs": [
    {
     "data": {
      "text/plain": [
       "5        2573.820\n",
       "8         609.980\n",
       "12        755.960\n",
       "22        545.940\n",
       "29        572.580\n",
       "           ...   \n",
       "10121    2879.952\n",
       "10137     629.100\n",
       "10149     750.680\n",
       "10169     725.840\n",
       "10172    1207.840\n",
       "Name: Sales, Length: 1183, dtype: float64"
      ]
     },
     "execution_count": 25,
     "metadata": {},
     "output_type": "execute_result"
    }
   ],
   "source": [
    "Sales[Sales > upper_fence]"
   ]
  },
  {
   "cell_type": "code",
   "execution_count": 26,
   "id": "d7ecfa93",
   "metadata": {
    "execution": {
     "iopub.execute_input": "2024-12-18T18:20:43.241982Z",
     "iopub.status.busy": "2024-12-18T18:20:43.241597Z",
     "iopub.status.idle": "2024-12-18T18:20:43.278285Z",
     "shell.execute_reply": "2024-12-18T18:20:43.277002Z"
    },
    "papermill": {
     "duration": 0.05664,
     "end_time": "2024-12-18T18:20:43.280614",
     "exception": false,
     "start_time": "2024-12-18T18:20:43.223974",
     "status": "completed"
    },
    "tags": []
   },
   "outputs": [
    {
     "data": {
      "text/html": [
       "<div>\n",
       "<style scoped>\n",
       "    .dataframe tbody tr th:only-of-type {\n",
       "        vertical-align: middle;\n",
       "    }\n",
       "\n",
       "    .dataframe tbody tr th {\n",
       "        vertical-align: top;\n",
       "    }\n",
       "\n",
       "    .dataframe thead th {\n",
       "        text-align: right;\n",
       "    }\n",
       "</style>\n",
       "<table border=\"1\" class=\"dataframe\">\n",
       "  <thead>\n",
       "    <tr style=\"text-align: right;\">\n",
       "      <th></th>\n",
       "      <th>Row ID</th>\n",
       "      <th>Order ID</th>\n",
       "      <th>Order Date</th>\n",
       "      <th>Ship Date</th>\n",
       "      <th>Ship Mode</th>\n",
       "      <th>Customer ID</th>\n",
       "      <th>Customer Name</th>\n",
       "      <th>Segment</th>\n",
       "      <th>Country/Region</th>\n",
       "      <th>City</th>\n",
       "      <th>...</th>\n",
       "      <th>Region</th>\n",
       "      <th>Product ID</th>\n",
       "      <th>Category</th>\n",
       "      <th>Sub-Category</th>\n",
       "      <th>Product Name</th>\n",
       "      <th>Sales</th>\n",
       "      <th>Quantity</th>\n",
       "      <th>Discount</th>\n",
       "      <th>Profit</th>\n",
       "      <th>year</th>\n",
       "    </tr>\n",
       "  </thead>\n",
       "  <tbody>\n",
       "    <tr>\n",
       "      <th>0</th>\n",
       "      <td>1</td>\n",
       "      <td>US-2021-103800</td>\n",
       "      <td>2021-03-01</td>\n",
       "      <td>07-01-2021</td>\n",
       "      <td>Standard Class</td>\n",
       "      <td>DP-13000</td>\n",
       "      <td>Darren Powers</td>\n",
       "      <td>Consumer</td>\n",
       "      <td>United States</td>\n",
       "      <td>Houston</td>\n",
       "      <td>...</td>\n",
       "      <td>Central</td>\n",
       "      <td>OFF-PA-10000174</td>\n",
       "      <td>Office Supplies</td>\n",
       "      <td>Paper</td>\n",
       "      <td>Message Book, Wirebound, Four 5 1/2\" X 4\" Form...</td>\n",
       "      <td>16.448</td>\n",
       "      <td>2</td>\n",
       "      <td>0.2</td>\n",
       "      <td>5.5512</td>\n",
       "      <td>2021</td>\n",
       "    </tr>\n",
       "    <tr>\n",
       "      <th>1</th>\n",
       "      <td>2</td>\n",
       "      <td>US-2021-112326</td>\n",
       "      <td>2021-04-01</td>\n",
       "      <td>08-01-2021</td>\n",
       "      <td>Standard Class</td>\n",
       "      <td>PO-19195</td>\n",
       "      <td>Phillina Ober</td>\n",
       "      <td>Home Office</td>\n",
       "      <td>United States</td>\n",
       "      <td>Naperville</td>\n",
       "      <td>...</td>\n",
       "      <td>Central</td>\n",
       "      <td>OFF-BI-10004094</td>\n",
       "      <td>Office Supplies</td>\n",
       "      <td>Binders</td>\n",
       "      <td>GBC Standard Plastic Binding Systems Combs</td>\n",
       "      <td>3.540</td>\n",
       "      <td>2</td>\n",
       "      <td>0.8</td>\n",
       "      <td>-5.4870</td>\n",
       "      <td>2021</td>\n",
       "    </tr>\n",
       "    <tr>\n",
       "      <th>2</th>\n",
       "      <td>3</td>\n",
       "      <td>US-2021-112326</td>\n",
       "      <td>2021-04-01</td>\n",
       "      <td>08-01-2021</td>\n",
       "      <td>Standard Class</td>\n",
       "      <td>PO-19195</td>\n",
       "      <td>Phillina Ober</td>\n",
       "      <td>Home Office</td>\n",
       "      <td>United States</td>\n",
       "      <td>Naperville</td>\n",
       "      <td>...</td>\n",
       "      <td>Central</td>\n",
       "      <td>OFF-LA-10003223</td>\n",
       "      <td>Office Supplies</td>\n",
       "      <td>Labels</td>\n",
       "      <td>Avery 508</td>\n",
       "      <td>11.784</td>\n",
       "      <td>3</td>\n",
       "      <td>0.2</td>\n",
       "      <td>4.2717</td>\n",
       "      <td>2021</td>\n",
       "    </tr>\n",
       "    <tr>\n",
       "      <th>3</th>\n",
       "      <td>4</td>\n",
       "      <td>US-2021-112326</td>\n",
       "      <td>2021-04-01</td>\n",
       "      <td>08-01-2021</td>\n",
       "      <td>Standard Class</td>\n",
       "      <td>PO-19195</td>\n",
       "      <td>Phillina Ober</td>\n",
       "      <td>Home Office</td>\n",
       "      <td>United States</td>\n",
       "      <td>Naperville</td>\n",
       "      <td>...</td>\n",
       "      <td>Central</td>\n",
       "      <td>OFF-ST-10002743</td>\n",
       "      <td>Office Supplies</td>\n",
       "      <td>Storage</td>\n",
       "      <td>SAFCO Boltless Steel Shelving</td>\n",
       "      <td>272.736</td>\n",
       "      <td>3</td>\n",
       "      <td>0.2</td>\n",
       "      <td>-64.7748</td>\n",
       "      <td>2021</td>\n",
       "    </tr>\n",
       "    <tr>\n",
       "      <th>4</th>\n",
       "      <td>5</td>\n",
       "      <td>US-2021-141817</td>\n",
       "      <td>2021-05-01</td>\n",
       "      <td>12-01-2021</td>\n",
       "      <td>Standard Class</td>\n",
       "      <td>MB-18085</td>\n",
       "      <td>Mick Brown</td>\n",
       "      <td>Consumer</td>\n",
       "      <td>United States</td>\n",
       "      <td>Philadelphia</td>\n",
       "      <td>...</td>\n",
       "      <td>East</td>\n",
       "      <td>OFF-AR-10003478</td>\n",
       "      <td>Office Supplies</td>\n",
       "      <td>Art</td>\n",
       "      <td>Avery Hi-Liter EverBold Pen Style Fluorescent ...</td>\n",
       "      <td>19.536</td>\n",
       "      <td>3</td>\n",
       "      <td>0.2</td>\n",
       "      <td>4.8840</td>\n",
       "      <td>2021</td>\n",
       "    </tr>\n",
       "    <tr>\n",
       "      <th>...</th>\n",
       "      <td>...</td>\n",
       "      <td>...</td>\n",
       "      <td>...</td>\n",
       "      <td>...</td>\n",
       "      <td>...</td>\n",
       "      <td>...</td>\n",
       "      <td>...</td>\n",
       "      <td>...</td>\n",
       "      <td>...</td>\n",
       "      <td>...</td>\n",
       "      <td>...</td>\n",
       "      <td>...</td>\n",
       "      <td>...</td>\n",
       "      <td>...</td>\n",
       "      <td>...</td>\n",
       "      <td>...</td>\n",
       "      <td>...</td>\n",
       "      <td>...</td>\n",
       "      <td>...</td>\n",
       "      <td>...</td>\n",
       "      <td>...</td>\n",
       "    </tr>\n",
       "    <tr>\n",
       "      <th>10189</th>\n",
       "      <td>10190</td>\n",
       "      <td>US-2024-143259</td>\n",
       "      <td>2024-12-30</td>\n",
       "      <td>03-01-2025</td>\n",
       "      <td>Standard Class</td>\n",
       "      <td>PO-18865</td>\n",
       "      <td>Patrick O'Donnell</td>\n",
       "      <td>Consumer</td>\n",
       "      <td>United States</td>\n",
       "      <td>New York City</td>\n",
       "      <td>...</td>\n",
       "      <td>East</td>\n",
       "      <td>OFF-BI-10003684</td>\n",
       "      <td>Office Supplies</td>\n",
       "      <td>Binders</td>\n",
       "      <td>Wilson Jones Legal Size Ring Binders</td>\n",
       "      <td>52.776</td>\n",
       "      <td>3</td>\n",
       "      <td>0.2</td>\n",
       "      <td>19.7910</td>\n",
       "      <td>2024</td>\n",
       "    </tr>\n",
       "    <tr>\n",
       "      <th>10190</th>\n",
       "      <td>10191</td>\n",
       "      <td>US-2024-115427</td>\n",
       "      <td>2024-12-30</td>\n",
       "      <td>03-01-2025</td>\n",
       "      <td>Standard Class</td>\n",
       "      <td>EB-13975</td>\n",
       "      <td>Erica Bern</td>\n",
       "      <td>Corporate</td>\n",
       "      <td>United States</td>\n",
       "      <td>Fairfield</td>\n",
       "      <td>...</td>\n",
       "      <td>West</td>\n",
       "      <td>OFF-BI-10004632</td>\n",
       "      <td>Office Supplies</td>\n",
       "      <td>Binders</td>\n",
       "      <td>GBC Binding covers</td>\n",
       "      <td>20.720</td>\n",
       "      <td>2</td>\n",
       "      <td>0.2</td>\n",
       "      <td>6.4750</td>\n",
       "      <td>2024</td>\n",
       "    </tr>\n",
       "    <tr>\n",
       "      <th>10191</th>\n",
       "      <td>10192</td>\n",
       "      <td>US-2024-156720</td>\n",
       "      <td>2024-12-30</td>\n",
       "      <td>03-01-2025</td>\n",
       "      <td>Standard Class</td>\n",
       "      <td>JM-15580</td>\n",
       "      <td>Jill Matthias</td>\n",
       "      <td>Consumer</td>\n",
       "      <td>United States</td>\n",
       "      <td>Loveland</td>\n",
       "      <td>...</td>\n",
       "      <td>West</td>\n",
       "      <td>OFF-FA-10003472</td>\n",
       "      <td>Office Supplies</td>\n",
       "      <td>Fasteners</td>\n",
       "      <td>Bagged Rubber Bands</td>\n",
       "      <td>3.024</td>\n",
       "      <td>3</td>\n",
       "      <td>0.2</td>\n",
       "      <td>-0.6048</td>\n",
       "      <td>2024</td>\n",
       "    </tr>\n",
       "    <tr>\n",
       "      <th>10192</th>\n",
       "      <td>10193</td>\n",
       "      <td>US-2024-143259</td>\n",
       "      <td>2024-12-30</td>\n",
       "      <td>03-01-2025</td>\n",
       "      <td>Standard Class</td>\n",
       "      <td>PO-18865</td>\n",
       "      <td>Patrick O'Donnell</td>\n",
       "      <td>Consumer</td>\n",
       "      <td>United States</td>\n",
       "      <td>New York City</td>\n",
       "      <td>...</td>\n",
       "      <td>East</td>\n",
       "      <td>TEC-PH-10004774</td>\n",
       "      <td>Technology</td>\n",
       "      <td>Phones</td>\n",
       "      <td>Gear Head AU3700S Headset</td>\n",
       "      <td>90.930</td>\n",
       "      <td>7</td>\n",
       "      <td>0.0</td>\n",
       "      <td>2.7279</td>\n",
       "      <td>2024</td>\n",
       "    </tr>\n",
       "    <tr>\n",
       "      <th>10193</th>\n",
       "      <td>10194</td>\n",
       "      <td>CA-2024-143500</td>\n",
       "      <td>2024-12-30</td>\n",
       "      <td>03-01-2025</td>\n",
       "      <td>Standard Class</td>\n",
       "      <td>HO-15230</td>\n",
       "      <td>Harry Olson</td>\n",
       "      <td>Consumer</td>\n",
       "      <td>Canada</td>\n",
       "      <td>Charlottetown</td>\n",
       "      <td>...</td>\n",
       "      <td>East</td>\n",
       "      <td>OFF-BI-10004040</td>\n",
       "      <td>Office Supplies</td>\n",
       "      <td>Binders</td>\n",
       "      <td>Wilson Jones Impact Binders</td>\n",
       "      <td>3.024</td>\n",
       "      <td>3</td>\n",
       "      <td>0.2</td>\n",
       "      <td>-0.6048</td>\n",
       "      <td>2024</td>\n",
       "    </tr>\n",
       "  </tbody>\n",
       "</table>\n",
       "<p>9011 rows × 22 columns</p>\n",
       "</div>"
      ],
      "text/plain": [
       "       Row ID        Order ID Order Date   Ship Date       Ship Mode  \\\n",
       "0           1  US-2021-103800 2021-03-01  07-01-2021  Standard Class   \n",
       "1           2  US-2021-112326 2021-04-01  08-01-2021  Standard Class   \n",
       "2           3  US-2021-112326 2021-04-01  08-01-2021  Standard Class   \n",
       "3           4  US-2021-112326 2021-04-01  08-01-2021  Standard Class   \n",
       "4           5  US-2021-141817 2021-05-01  12-01-2021  Standard Class   \n",
       "...       ...             ...        ...         ...             ...   \n",
       "10189   10190  US-2024-143259 2024-12-30  03-01-2025  Standard Class   \n",
       "10190   10191  US-2024-115427 2024-12-30  03-01-2025  Standard Class   \n",
       "10191   10192  US-2024-156720 2024-12-30  03-01-2025  Standard Class   \n",
       "10192   10193  US-2024-143259 2024-12-30  03-01-2025  Standard Class   \n",
       "10193   10194  CA-2024-143500 2024-12-30  03-01-2025  Standard Class   \n",
       "\n",
       "      Customer ID      Customer Name      Segment Country/Region  \\\n",
       "0        DP-13000      Darren Powers     Consumer  United States   \n",
       "1        PO-19195      Phillina Ober  Home Office  United States   \n",
       "2        PO-19195      Phillina Ober  Home Office  United States   \n",
       "3        PO-19195      Phillina Ober  Home Office  United States   \n",
       "4        MB-18085         Mick Brown     Consumer  United States   \n",
       "...           ...                ...          ...            ...   \n",
       "10189    PO-18865  Patrick O'Donnell     Consumer  United States   \n",
       "10190    EB-13975         Erica Bern    Corporate  United States   \n",
       "10191    JM-15580      Jill Matthias     Consumer  United States   \n",
       "10192    PO-18865  Patrick O'Donnell     Consumer  United States   \n",
       "10193    HO-15230        Harry Olson     Consumer         Canada   \n",
       "\n",
       "                City  ...   Region       Product ID         Category  \\\n",
       "0            Houston  ...  Central  OFF-PA-10000174  Office Supplies   \n",
       "1         Naperville  ...  Central  OFF-BI-10004094  Office Supplies   \n",
       "2         Naperville  ...  Central  OFF-LA-10003223  Office Supplies   \n",
       "3         Naperville  ...  Central  OFF-ST-10002743  Office Supplies   \n",
       "4       Philadelphia  ...     East  OFF-AR-10003478  Office Supplies   \n",
       "...              ...  ...      ...              ...              ...   \n",
       "10189  New York City  ...     East  OFF-BI-10003684  Office Supplies   \n",
       "10190      Fairfield  ...     West  OFF-BI-10004632  Office Supplies   \n",
       "10191       Loveland  ...     West  OFF-FA-10003472  Office Supplies   \n",
       "10192  New York City  ...     East  TEC-PH-10004774       Technology   \n",
       "10193  Charlottetown  ...     East  OFF-BI-10004040  Office Supplies   \n",
       "\n",
       "      Sub-Category                                       Product Name  \\\n",
       "0            Paper  Message Book, Wirebound, Four 5 1/2\" X 4\" Form...   \n",
       "1          Binders         GBC Standard Plastic Binding Systems Combs   \n",
       "2           Labels                                          Avery 508   \n",
       "3          Storage                      SAFCO Boltless Steel Shelving   \n",
       "4              Art  Avery Hi-Liter EverBold Pen Style Fluorescent ...   \n",
       "...            ...                                                ...   \n",
       "10189      Binders               Wilson Jones Legal Size Ring Binders   \n",
       "10190      Binders                                 GBC Binding covers   \n",
       "10191    Fasteners                                Bagged Rubber Bands   \n",
       "10192       Phones                          Gear Head AU3700S Headset   \n",
       "10193      Binders                        Wilson Jones Impact Binders   \n",
       "\n",
       "         Sales Quantity  Discount   Profit  year  \n",
       "0       16.448        2       0.2   5.5512  2021  \n",
       "1        3.540        2       0.8  -5.4870  2021  \n",
       "2       11.784        3       0.2   4.2717  2021  \n",
       "3      272.736        3       0.2 -64.7748  2021  \n",
       "4       19.536        3       0.2   4.8840  2021  \n",
       "...        ...      ...       ...      ...   ...  \n",
       "10189   52.776        3       0.2  19.7910  2024  \n",
       "10190   20.720        2       0.2   6.4750  2024  \n",
       "10191    3.024        3       0.2  -0.6048  2024  \n",
       "10192   90.930        7       0.0   2.7279  2024  \n",
       "10193    3.024        3       0.2  -0.6048  2024  \n",
       "\n",
       "[9011 rows x 22 columns]"
      ]
     },
     "execution_count": 26,
     "metadata": {},
     "output_type": "execute_result"
    }
   ],
   "source": [
    "df_del = df[~(Sales > upper_fence)]\n",
    "\n",
    "df_del"
   ]
  },
  {
   "cell_type": "code",
   "execution_count": 27,
   "id": "7d119bb5",
   "metadata": {
    "execution": {
     "iopub.execute_input": "2024-12-18T18:20:43.316141Z",
     "iopub.status.busy": "2024-12-18T18:20:43.315407Z",
     "iopub.status.idle": "2024-12-18T18:20:43.512529Z",
     "shell.execute_reply": "2024-12-18T18:20:43.511418Z"
    },
    "papermill": {
     "duration": 0.217517,
     "end_time": "2024-12-18T18:20:43.515141",
     "exception": false,
     "start_time": "2024-12-18T18:20:43.297624",
     "status": "completed"
    },
    "tags": []
   },
   "outputs": [
    {
     "data": {
      "image/png": "[encoded data removed]",
      "text/plain": [
       "<Figure size 800x600 with 1 Axes>"
      ]
     },
     "metadata": {},
     "output_type": "display_data"
    }
   ],
   "source": [
    "plt.figure(figsize = (8, 6))\n",
    "sns.boxplot(data = df_del,\n",
    "            y = df_del[\"Sales\"],\n",
    "            orient = \"v\");"
   ]
  },
  {
   "cell_type": "markdown",
   "id": "48c96ff4",
   "metadata": {
    "papermill": {
     "duration": 0.016898,
     "end_time": "2024-12-18T18:20:43.549413",
     "exception": false,
     "start_time": "2024-12-18T18:20:43.532515",
     "status": "completed"
    },
    "tags": []
   },
   "source": [
    "### Aykırı Gözlemlerin Doldurulması"
   ]
  },
  {
   "cell_type": "markdown",
   "id": "665b5c2a",
   "metadata": {
    "papermill": {
     "duration": 0.016907,
     "end_time": "2024-12-18T18:20:43.583736",
     "exception": false,
     "start_time": "2024-12-18T18:20:43.566829",
     "status": "completed"
    },
    "tags": []
   },
   "source": [
    "-Ortalama değer ile doldurma"
   ]
  },
  {
   "cell_type": "code",
   "execution_count": 28,
   "id": "08544caa",
   "metadata": {
    "execution": {
     "iopub.execute_input": "2024-12-18T18:20:43.620295Z",
     "iopub.status.busy": "2024-12-18T18:20:43.619858Z",
     "iopub.status.idle": "2024-12-18T18:20:43.626824Z",
     "shell.execute_reply": "2024-12-18T18:20:43.625764Z"
    },
    "papermill": {
     "duration": 0.028122,
     "end_time": "2024-12-18T18:20:43.629069",
     "exception": false,
     "start_time": "2024-12-18T18:20:43.600947",
     "status": "completed"
    },
    "tags": []
   },
   "outputs": [],
   "source": [
    "df.loc[Sales > upper_fence, \"Sales\"] = Sales.mean()"
   ]
  },
  {
   "cell_type": "code",
   "execution_count": 29,
   "id": "23edcc77",
   "metadata": {
    "execution": {
     "iopub.execute_input": "2024-12-18T18:20:43.665691Z",
     "iopub.status.busy": "2024-12-18T18:20:43.665194Z",
     "iopub.status.idle": "2024-12-18T18:20:43.673946Z",
     "shell.execute_reply": "2024-12-18T18:20:43.672727Z"
    },
    "papermill": {
     "duration": 0.029417,
     "end_time": "2024-12-18T18:20:43.676253",
     "exception": false,
     "start_time": "2024-12-18T18:20:43.646836",
     "status": "completed"
    },
    "tags": []
   },
   "outputs": [
    {
     "data": {
      "text/plain": [
       "Series([], Name: Sales, dtype: float64)"
      ]
     },
     "execution_count": 29,
     "metadata": {},
     "output_type": "execute_result"
    }
   ],
   "source": [
    "df.loc[Sales > upper_fence, \"Sales\"]"
   ]
  },
  {
   "cell_type": "code",
   "execution_count": 30,
   "id": "9742ce24",
   "metadata": {
    "execution": {
     "iopub.execute_input": "2024-12-18T18:20:43.713005Z",
     "iopub.status.busy": "2024-12-18T18:20:43.712600Z",
     "iopub.status.idle": "2024-12-18T18:20:43.896795Z",
     "shell.execute_reply": "2024-12-18T18:20:43.895739Z"
    },
    "papermill": {
     "duration": 0.205532,
     "end_time": "2024-12-18T18:20:43.899133",
     "exception": false,
     "start_time": "2024-12-18T18:20:43.693601",
     "status": "completed"
    },
    "tags": []
   },
   "outputs": [
    {
     "data": {
      "image/png": "[encoded data removed]",
      "text/plain": [
       "<Figure size 800x600 with 1 Axes>"
      ]
     },
     "metadata": {},
     "output_type": "display_data"
    }
   ],
   "source": [
    "plt.figure(figsize = (8, 6))\n",
    "sns.boxplot(data = df_del,\n",
    "            y = df[\"Sales\"],\n",
    "            orient = \"v\");"
   ]
  },
  {
   "cell_type": "markdown",
   "id": "c73d6a66",
   "metadata": {
    "papermill": {
     "duration": 0.018572,
     "end_time": "2024-12-18T18:20:43.935857",
     "exception": false,
     "start_time": "2024-12-18T18:20:43.917285",
     "status": "completed"
    },
    "tags": []
   },
   "source": [
    "-Baskılama yöntemi ile doldurma(capping)"
   ]
  },
  {
   "cell_type": "code",
   "execution_count": 31,
   "id": "16490114",
   "metadata": {
    "execution": {
     "iopub.execute_input": "2024-12-18T18:20:43.976126Z",
     "iopub.status.busy": "2024-12-18T18:20:43.975709Z",
     "iopub.status.idle": "2024-12-18T18:20:43.982429Z",
     "shell.execute_reply": "2024-12-18T18:20:43.981479Z"
    },
    "papermill": {
     "duration": 0.029726,
     "end_time": "2024-12-18T18:20:43.984568",
     "exception": false,
     "start_time": "2024-12-18T18:20:43.954842",
     "status": "completed"
    },
    "tags": []
   },
   "outputs": [],
   "source": [
    "df = df1.copy()"
   ]
  },
  {
   "cell_type": "code",
   "execution_count": 32,
   "id": "09e7d024",
   "metadata": {
    "execution": {
     "iopub.execute_input": "2024-12-18T18:20:44.023775Z",
     "iopub.status.busy": "2024-12-18T18:20:44.023408Z",
     "iopub.status.idle": "2024-12-18T18:20:44.030280Z",
     "shell.execute_reply": "2024-12-18T18:20:44.029143Z"
    },
    "papermill": {
     "duration": 0.02933,
     "end_time": "2024-12-18T18:20:44.032681",
     "exception": false,
     "start_time": "2024-12-18T18:20:44.003351",
     "status": "completed"
    },
    "tags": []
   },
   "outputs": [],
   "source": [
    "df.loc[Sales > upper_fence, \"Sales\"] = upper_fence"
   ]
  },
  {
   "cell_type": "code",
   "execution_count": 33,
   "id": "2fc38637",
   "metadata": {
    "execution": {
     "iopub.execute_input": "2024-12-18T18:20:44.072731Z",
     "iopub.status.busy": "2024-12-18T18:20:44.072323Z",
     "iopub.status.idle": "2024-12-18T18:20:44.262137Z",
     "shell.execute_reply": "2024-12-18T18:20:44.260878Z"
    },
    "papermill": {
     "duration": 0.212642,
     "end_time": "2024-12-18T18:20:44.264478",
     "exception": false,
     "start_time": "2024-12-18T18:20:44.051836",
     "status": "completed"
    },
    "tags": []
   },
   "outputs": [
    {
     "data": {
      "image/png": "[encoded data removed]",
      "text/plain": [
       "<Figure size 800x600 with 1 Axes>"
      ]
     },
     "metadata": {},
     "output_type": "display_data"
    }
   ],
   "source": [
    "plt.figure(figsize = (8, 6))\n",
    "sns.boxplot(data = df_del,\n",
    "            y = df[\"Sales\"],\n",
    "            orient = \"v\");"
   ]
  },
  {
   "cell_type": "markdown",
   "id": "3fbe0cb5",
   "metadata": {
    "papermill": {
     "duration": 0.018758,
     "end_time": "2024-12-18T18:20:44.302407",
     "exception": false,
     "start_time": "2024-12-18T18:20:44.283649",
     "status": "completed"
    },
    "tags": []
   },
   "source": [
    "Grafiğimiz satış verilerinin büyük bir kısmının düşük değerlerde yoğunlaştığını, ancak üst tarafa doğru geniş bir aralık olduğunu gösteriyor. Aykırı değerler bulunmamakla birlikte, satış değerleri arasındaki farklar dikkat çekici bir dağılım sunuyor.\n",
    "\n",
    "Müşterilerin büyük çoğunluğu düşük satış seviyelerinde yer alıyor. Bu durum, geniş bir müşteri kitlesine sahip olunduğunu ama büyük gelirlerin az sayıda müşteriden geldiğini gösterebilir (Pareto Prensibi - %80 gelir %20 müşteriden).\n",
    "Üst sınırda yer alan müşteriler işletme için kritik öneme sahiptir ve özel stratejilerle elde tutulmalıdır."
   ]
  },
  {
   "cell_type": "markdown",
   "id": "768e9a8b",
   "metadata": {
    "papermill": {
     "duration": 0.018822,
     "end_time": "2024-12-18T18:20:44.340284",
     "exception": false,
     "start_time": "2024-12-18T18:20:44.321462",
     "status": "completed"
    },
    "tags": []
   },
   "source": [
    "## Feature Engineering"
   ]
  },
  {
   "cell_type": "code",
   "execution_count": 34,
   "id": "94abc3de",
   "metadata": {
    "execution": {
     "iopub.execute_input": "2024-12-18T18:20:44.380196Z",
     "iopub.status.busy": "2024-12-18T18:20:44.379790Z",
     "iopub.status.idle": "2024-12-18T18:20:44.406899Z",
     "shell.execute_reply": "2024-12-18T18:20:44.405766Z"
    },
    "papermill": {
     "duration": 0.049725,
     "end_time": "2024-12-18T18:20:44.409107",
     "exception": false,
     "start_time": "2024-12-18T18:20:44.359382",
     "status": "completed"
    },
    "tags": []
   },
   "outputs": [
    {
     "data": {
      "text/html": [
       "<div>\n",
       "<style scoped>\n",
       "    .dataframe tbody tr th:only-of-type {\n",
       "        vertical-align: middle;\n",
       "    }\n",
       "\n",
       "    .dataframe tbody tr th {\n",
       "        vertical-align: top;\n",
       "    }\n",
       "\n",
       "    .dataframe thead th {\n",
       "        text-align: right;\n",
       "    }\n",
       "</style>\n",
       "<table border=\"1\" class=\"dataframe\">\n",
       "  <thead>\n",
       "    <tr style=\"text-align: right;\">\n",
       "      <th></th>\n",
       "      <th>Row ID</th>\n",
       "      <th>Order ID</th>\n",
       "      <th>Order Date</th>\n",
       "      <th>Ship Date</th>\n",
       "      <th>Ship Mode</th>\n",
       "      <th>Customer ID</th>\n",
       "      <th>Customer Name</th>\n",
       "      <th>Segment</th>\n",
       "      <th>Country/Region</th>\n",
       "      <th>City</th>\n",
       "      <th>...</th>\n",
       "      <th>Region</th>\n",
       "      <th>Product ID</th>\n",
       "      <th>Category</th>\n",
       "      <th>Sub-Category</th>\n",
       "      <th>Product Name</th>\n",
       "      <th>Sales</th>\n",
       "      <th>Quantity</th>\n",
       "      <th>Discount</th>\n",
       "      <th>Profit</th>\n",
       "      <th>Sales_range</th>\n",
       "    </tr>\n",
       "  </thead>\n",
       "  <tbody>\n",
       "    <tr>\n",
       "      <th>10191</th>\n",
       "      <td>10192</td>\n",
       "      <td>US-2024-156720</td>\n",
       "      <td>30-12-2024</td>\n",
       "      <td>03-01-2025</td>\n",
       "      <td>Standard Class</td>\n",
       "      <td>JM-15580</td>\n",
       "      <td>Jill Matthias</td>\n",
       "      <td>Consumer</td>\n",
       "      <td>United States</td>\n",
       "      <td>Loveland</td>\n",
       "      <td>...</td>\n",
       "      <td>West</td>\n",
       "      <td>OFF-FA-10003472</td>\n",
       "      <td>Office Supplies</td>\n",
       "      <td>Fasteners</td>\n",
       "      <td>Bagged Rubber Bands</td>\n",
       "      <td>3.024</td>\n",
       "      <td>3</td>\n",
       "      <td>0.2</td>\n",
       "      <td>-0.6048</td>\n",
       "      <td>low_level</td>\n",
       "    </tr>\n",
       "    <tr>\n",
       "      <th>10192</th>\n",
       "      <td>10193</td>\n",
       "      <td>US-2024-143259</td>\n",
       "      <td>30-12-2024</td>\n",
       "      <td>03-01-2025</td>\n",
       "      <td>Standard Class</td>\n",
       "      <td>PO-18865</td>\n",
       "      <td>Patrick O'Donnell</td>\n",
       "      <td>Consumer</td>\n",
       "      <td>United States</td>\n",
       "      <td>New York City</td>\n",
       "      <td>...</td>\n",
       "      <td>East</td>\n",
       "      <td>TEC-PH-10004774</td>\n",
       "      <td>Technology</td>\n",
       "      <td>Phones</td>\n",
       "      <td>Gear Head AU3700S Headset</td>\n",
       "      <td>90.930</td>\n",
       "      <td>7</td>\n",
       "      <td>0.0</td>\n",
       "      <td>2.7279</td>\n",
       "      <td>low_level</td>\n",
       "    </tr>\n",
       "    <tr>\n",
       "      <th>10193</th>\n",
       "      <td>10194</td>\n",
       "      <td>CA-2024-143500</td>\n",
       "      <td>30-12-2024</td>\n",
       "      <td>03-01-2025</td>\n",
       "      <td>Standard Class</td>\n",
       "      <td>HO-15230</td>\n",
       "      <td>Harry Olson</td>\n",
       "      <td>Consumer</td>\n",
       "      <td>Canada</td>\n",
       "      <td>Charlottetown</td>\n",
       "      <td>...</td>\n",
       "      <td>East</td>\n",
       "      <td>OFF-BI-10004040</td>\n",
       "      <td>Office Supplies</td>\n",
       "      <td>Binders</td>\n",
       "      <td>Wilson Jones Impact Binders</td>\n",
       "      <td>3.024</td>\n",
       "      <td>3</td>\n",
       "      <td>0.2</td>\n",
       "      <td>-0.6048</td>\n",
       "      <td>low_level</td>\n",
       "    </tr>\n",
       "  </tbody>\n",
       "</table>\n",
       "<p>3 rows × 22 columns</p>\n",
       "</div>"
      ],
      "text/plain": [
       "       Row ID        Order ID  Order Date   Ship Date       Ship Mode  \\\n",
       "10191   10192  US-2024-156720  30-12-2024  03-01-2025  Standard Class   \n",
       "10192   10193  US-2024-143259  30-12-2024  03-01-2025  Standard Class   \n",
       "10193   10194  CA-2024-143500  30-12-2024  03-01-2025  Standard Class   \n",
       "\n",
       "      Customer ID      Customer Name   Segment Country/Region           City  \\\n",
       "10191    JM-15580      Jill Matthias  Consumer  United States       Loveland   \n",
       "10192    PO-18865  Patrick O'Donnell  Consumer  United States  New York City   \n",
       "10193    HO-15230        Harry Olson  Consumer         Canada  Charlottetown   \n",
       "\n",
       "       ... Region       Product ID         Category Sub-Category  \\\n",
       "10191  ...   West  OFF-FA-10003472  Office Supplies    Fasteners   \n",
       "10192  ...   East  TEC-PH-10004774       Technology       Phones   \n",
       "10193  ...   East  OFF-BI-10004040  Office Supplies      Binders   \n",
       "\n",
       "                      Product Name   Sales Quantity  Discount  Profit  \\\n",
       "10191          Bagged Rubber Bands   3.024        3       0.2 -0.6048   \n",
       "10192    Gear Head AU3700S Headset  90.930        7       0.0  2.7279   \n",
       "10193  Wilson Jones Impact Binders   3.024        3       0.2 -0.6048   \n",
       "\n",
       "       Sales_range  \n",
       "10191    low_level  \n",
       "10192    low_level  \n",
       "10193    low_level  \n",
       "\n",
       "[3 rows x 22 columns]"
      ]
     },
     "execution_count": 34,
     "metadata": {},
     "output_type": "execute_result"
    }
   ],
   "source": [
    "#Satışlara göre müşteri segmentasyonu yapabiliriz\n",
    "\n",
    "def Sales_range(Sales):\n",
    "    if Sales < 500:\n",
    "        return \"low_level\"\n",
    "    elif 500<= Sales < 2000:\n",
    "        return \"medium_level\"\n",
    "    else:\n",
    "        return \"high_level\"\n",
    "\n",
    "df['Sales_range'] = df['Sales'].apply(Sales_range)\n",
    "\n",
    "df.tail(3)\n"
   ]
  },
  {
   "cell_type": "markdown",
   "id": "66ba4431",
   "metadata": {
    "papermill": {
     "duration": 0.018922,
     "end_time": "2024-12-18T18:20:44.448034",
     "exception": false,
     "start_time": "2024-12-18T18:20:44.429112",
     "status": "completed"
    },
    "tags": []
   },
   "source": [
    "Low level satışlar için fiyat indirimleri, ürün tanıtımları ve sadakat programları uygulanabilir. Medium level satışlar için bundle teklifler, özel indirimler ve müşteri eğitimleri önerilir. High level satışlar için lüks ürünler, özel müşteri ilişkileri yönetimi ve yeni ürün duyuruları uygulanabilir. Bu politikalar, her segmentin farklı ihtiyaçlarına ve bütçelerine göre uyarlanabilir."
   ]
  }
 ],
 "metadata": {
  "kaggle": {
   "accelerator": "none",
   "dataSources": [
    {
     "datasetId": 6169566,
     "sourceId": 10020148,
     "sourceType": "datasetVersion"
    }
   ],
   "dockerImageVersionId": 30786,
   "isGpuEnabled": false,
   "isInternetEnabled": true,
   "language": "python",
   "sourceType": "notebook"
  },
  "kernelspec": {
   "display_name": "Python 3",
   "language": "python",
   "name": "python3"
  },
  "language_info": {
   "codemirror_mode": {
    "name": "ipython",
    "version": 3
   },
   "file_extension": ".py",
   "mimetype": "text/x-python",
   "name": "python",
   "nbconvert_exporter": "python",
   "pygments_lexer": "ipython3",
   "version": "3.10.14"
  },
  "papermill": {
   "default_parameters": {},
   "duration": 11.623029,
   "end_time": "2024-12-18T18:20:45.088731",
   "environment_variables": {},
   "exception": null,
   "input_path": "__notebook__.ipynb",
   "output_path": "__notebook__.ipynb",
   "parameters": {},
   "start_time": "2024-12-18T18:20:33.465702",
   "version": "2.6.0"
  }
 },
 "nbformat": 4,
 "nbformat_minor": 5
}
